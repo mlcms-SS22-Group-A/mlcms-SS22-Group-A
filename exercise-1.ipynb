{
 "cells": [
  {
   "cell_type": "markdown",
   "id": "497d0bad",
   "metadata": {
    "pycharm": {
     "name": "#%% md\n"
    }
   },
   "source": [
    "# Import Packages"
   ]
  },
  {
   "cell_type": "code",
   "execution_count": 1,
   "id": "1a8e3290",
   "metadata": {
    "collapsed": false,
    "jupyter": {
     "outputs_hidden": false
    },
    "pycharm": {
     "name": "#%%\n"
    }
   },
   "outputs": [
    {
     "name": "stdout",
     "output_type": "stream",
     "text": [
      "pygame 2.1.2 (SDL 2.0.18, Python 3.9.7)\n",
      "Hello from the pygame community. https://www.pygame.org/contribute.html\n"
     ]
    }
   ],
   "source": [
    "# everything will be imported here\n",
    "from src.euclidean_tasks import *\n",
    "from src.dijkstra_tasks import *\n",
    "from src.tester import test_it\n",
    "from matplotlib import *\n",
    "from matplotlib import pyplot as plt \n",
    "\n",
    "\n",
    "\n",
    "\n",
    "%reload_ext autoreload\n",
    "%autoreload 2"
   ]
  },
  {
   "cell_type": "markdown",
   "id": "cb783da9-2c19-4753-b069-8b5c14832309",
   "metadata": {
    "pycharm": {
     "name": "#%% md\n"
    }
   },
   "source": [
    "# Task 1/5: Setting up the modeling environment"
   ]
  },
  {
   "cell_type": "code",
   "execution_count": null,
   "id": "bc3240f7-5485-4036-b555-34910056c08c",
   "metadata": {
    "pycharm": {
     "name": "#%%\n"
    }
   },
   "outputs": [],
   "source": [
    "# this code will run the simulation of the first exercise (basic visualisation)\n",
    "euclidean_tasks(\"1\")"
   ]
  },
  {
   "cell_type": "markdown",
   "id": "35fc75d9-03d5-4fd2-9369-da13e1508aff",
   "metadata": {
    "pycharm": {
     "name": "#%% md\n"
    }
   },
   "source": [
    "# Task 2/5: First step of a single pedestrian"
   ]
  },
  {
   "cell_type": "code",
   "execution_count": null,
   "id": "d5382448",
   "metadata": {
    "collapsed": false,
    "jupyter": {
     "outputs_hidden": false
    },
    "pycharm": {
     "name": "#%%\n"
    }
   },
   "outputs": [],
   "source": [
    "# this code will run the simulation of the second exercise (single pedestrian)\n",
    "euclidean_tasks(\"2\")"
   ]
  },
  {
   "cell_type": "markdown",
   "id": "d98f8c41-d566-43a7-b71e-6ff06c084ff1",
   "metadata": {
    "pycharm": {
     "name": "#%% md\n"
    }
   },
   "source": [
    "# Task 3/5: Interaction of pedestrians"
   ]
  },
  {
   "cell_type": "code",
   "execution_count": 13,
   "id": "5023959f",
   "metadata": {
    "collapsed": false,
    "jupyter": {
     "outputs_hidden": false
    },
    "pycharm": {
     "name": "#%%\n"
    }
   },
   "outputs": [],
   "source": [
    "# this code will run the simulation of the third exercise (multiple pedestrians at roughly same distance to target)\n",
    "euclidean_tasks(\"3\")"
   ]
  },
  {
   "cell_type": "markdown",
   "id": "26766276-f9e4-4cfc-972b-e1654851475c",
   "metadata": {
    "pycharm": {
     "name": "#%% md\n"
    }
   },
   "source": [
    "# Task 4/5: Obstacle avoidance"
   ]
  },
  {
   "cell_type": "code",
   "execution_count": 14,
   "id": "ad3b349c",
   "metadata": {
    "collapsed": false,
    "jupyter": {
     "outputs_hidden": false
    },
    "pycharm": {
     "name": "#%%\n"
    }
   },
   "outputs": [
    {
     "data": {
      "text/plain": [
       "([<src.pedestrian.Pedestrian at 0x227a01c75b0>], 0)"
      ]
     },
     "execution_count": 14,
     "metadata": {},
     "output_type": "execute_result"
    }
   ],
   "source": [
    "# this code will run the simulation of the fourth exercise (obstacle avoidance and dijkstra)\n",
    "dijkstra_tasks(\"4\",False)"
   ]
  },
  {
   "cell_type": "markdown",
   "id": "f4624c4b",
   "metadata": {
    "pycharm": {
     "name": "#%% md\n"
    }
   },
   "source": [
    "# Task 5/5: RiMEA Scenarios"
   ]
  },
  {
   "cell_type": "code",
   "execution_count": 3,
   "id": "5b170416",
   "metadata": {
    "collapsed": false,
    "jupyter": {
     "outputs_hidden": false
    },
    "pycharm": {
     "name": "#%%\n"
    }
   },
   "outputs": [
    {
     "data": {
      "image/png": "[encoded data removed]",
      "text/plain": [
       "<Figure size 432x288 with 1 Axes>"
      ]
     },
     "metadata": {
      "needs_background": "light"
     },
     "output_type": "display_data"
    }
   ],
   "source": [
    "# this code will run the simulation of the fifth exercise (test scenarios)\n",
    "(x,y)=test_it(\"5-6\")\n",
    "plt.xlabel(\"density\") \n",
    "plt.ylabel(\"flow\") \n",
    "plt.plot(x, y)\n",
    "plt.show()\n"
   ]
  },
  {
   "cell_type": "code",
   "execution_count": 2,
   "id": "f5b16d4c-019b-46ce-8fc1-e80e0abebbb2",
   "metadata": {},
   "outputs": [
    {
     "data": {
      "image/png": "[encoded data removed]",
      "text/plain": [
       "<Figure size 432x288 with 1 Axes>"
      ]
     },
     "metadata": {
      "needs_background": "light"
     },
     "output_type": "display_data"
    }
   ],
   "source": [
    "(x,y)=test_it(\"5-7\")\n",
    "plt.xlabel(\"ages\") \n",
    "plt.ylabel(\"speed\") \n",
    "plt.plot(x, y)\n",
    "plt.show()"
   ]
  },
  {
   "cell_type": "code",
   "execution_count": null,
   "id": "5bfe694a-3668-48c2-a52e-a2a9491f580b",
   "metadata": {},
   "outputs": [],
   "source": []
  }
 ],
 "metadata": {
  "kernelspec": {
   "display_name": "Python 3 (ipykernel)",
   "language": "python",
   "name": "python3"
  },
  "language_info": {
   "codemirror_mode": {
    "name": "ipython",
    "version": 3
   },
   "file_extension": ".py",
   "mimetype": "text/x-python",
   "name": "python",
   "nbconvert_exporter": "python",
   "pygments_lexer": "ipython3",
   "version": "3.9.7"
  }
 },
 "nbformat": 4,
 "nbformat_minor": 5
}
