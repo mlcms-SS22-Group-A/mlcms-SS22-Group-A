{
 "cells": [
  {
   "cell_type": "markdown",
   "id": "4778ecc2-725c-4bc1-9493-a2993aacda68",
   "metadata": {},
   "source": [
    "# Import Packages"
   ]
  },
  {
   "cell_type": "code",
   "execution_count": 1,
   "id": "7b09481b-f156-4895-9d8b-12bb72059710",
   "metadata": {},
   "outputs": [],
   "source": [
    "# we will import everything here\n",
    "import numpy as np\n",
    "\n",
    "from src.read_file import *\n",
    "from src.parser import *\n",
    "\n",
    "%reload_ext autoreload \n",
    "%autoreload 2 "
   ]
  },
  {
   "cell_type": "markdown",
   "id": "cb783da9-2c19-4753-b069-8b5c14832309",
   "metadata": {},
   "source": [
    "# Modeling Environment Setup"
   ]
  },
  {
   "cell_type": "code",
   "execution_count": 2,
   "id": "bc3240f7-5485-4036-b555-34910056c08c",
   "metadata": {},
   "outputs": [
    {
     "name": "stdout",
     "output_type": "stream",
     "text": [
      "Input state matrix: \n",
      "[[0 0 0 0 0]\n",
      " [0 0 0 0 0]\n",
      " [0 1 2 3 0]\n",
      " [0 0 0 0 0]\n",
      " [0 0 0 0 0]]\n",
      "number of rows and columns\n",
      "5 5\n",
      "coordinate list of the pedestrians\n",
      "[[2 1]]\n",
      "coordinate list of the obstacles\n",
      "[[2 2]]\n",
      "coordinate list of the targets\n",
      "[[2 3]]\n"
     ]
    }
   ],
   "source": [
    "# read the initial state of the cellular automata from a file\n",
    "X = read_file(\"input.txt\")\n",
    "print(\"Input state matrix: \")\n",
    "print(X)\n",
    "\n",
    "# parse the input and get the required parameters\n",
    "rows, cols, pedestrians, obstacles, targets = parser(X)\n",
    "\n",
    "print(\"number of rows and columns\")\n",
    "print(rows, cols)\n",
    "\n",
    "print(\"coordinate list of the pedestrians\")\n",
    "print(pedestrians)\n",
    "\n",
    "print(\"coordinate list of the obstacles\")\n",
    "print(obstacles)\n",
    "\n",
    "print(\"coordinate list of the targets\")\n",
    "print(targets)"
   ]
  },
  {
   "cell_type": "code",
   "execution_count": null,
   "id": "e590830f-05c1-47e7-a4b7-8a7af9853b52",
   "metadata": {},
   "outputs": [],
   "source": []
  }
 ],
 "metadata": {
  "kernelspec": {
   "display_name": "Python 3 (ipykernel)",
   "language": "python",
   "name": "python3"
  },
  "language_info": {
   "codemirror_mode": {
    "name": "ipython",
    "version": 3
   },
   "file_extension": ".py",
   "mimetype": "text/x-python",
   "name": "python",
   "nbconvert_exporter": "python",
   "pygments_lexer": "ipython3",
   "version": "3.9.7"
  }
 },
 "nbformat": 4,
 "nbformat_minor": 5
}
