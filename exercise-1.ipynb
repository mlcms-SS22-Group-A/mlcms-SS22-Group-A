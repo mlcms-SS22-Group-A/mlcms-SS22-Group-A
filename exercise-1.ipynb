{
 "cells": [
  {
   "cell_type": "markdown",
   "id": "4778ecc2-725c-4bc1-9493-a2993aacda68",
   "metadata": {},
   "source": [
    "# Import Packages"
   ]
  },
  {
   "cell_type": "code",
   "execution_count": 13,
   "id": "7b09481b-f156-4895-9d8b-12bb72059710",
   "metadata": {},
   "outputs": [],
   "source": [
    "# we will import everything here\n",
    "import numpy as np\n",
    "\n",
    "from src.read_file import *\n",
    "\n",
    "%reload_ext autoreload \n",
    "%autoreload 2 "
   ]
  },
  {
   "cell_type": "code",
   "execution_count": 15,
   "id": "bc3240f7-5485-4036-b555-34910056c08c",
   "metadata": {},
   "outputs": [
    {
     "name": "stdout",
     "output_type": "stream",
     "text": [
      "<class 'numpy.ndarray'>\n",
      "[[0 0 0 0 0]\n",
      " [0 0 0 0 0]\n",
      " [0 1 2 3 0]\n",
      " [0 0 0 0 0]\n",
      " [0 0 0 0 0]]\n"
     ]
    }
   ],
   "source": [
    "M = read_file(\"input.txt\")\n",
    "print(type(M))\n",
    "print(M)\n"
   ]
  }
 ],
 "metadata": {
  "kernelspec": {
   "display_name": "Python 3 (ipykernel)",
   "language": "python",
   "name": "python3"
  },
  "language_info": {
   "codemirror_mode": {
    "name": "ipython",
    "version": 3
   },
   "file_extension": ".py",
   "mimetype": "text/x-python",
   "name": "python",
   "nbconvert_exporter": "python",
   "pygments_lexer": "ipython3",
   "version": "3.9.7"
  }
 },
 "nbformat": 4,
 "nbformat_minor": 5
}
