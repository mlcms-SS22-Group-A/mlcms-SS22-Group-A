{
 "cells": [
  {
   "cell_type": "markdown",
   "id": "4778ecc2-725c-4bc1-9493-a2993aacda68",
   "metadata": {
    "pycharm": {
     "name": "#%% md\n"
    },
    "tags": []
   },
   "source": [
    "# Import Packages"
   ]
  },
  {
   "cell_type": "code",
   "execution_count": 10,
   "id": "7b09481b-f156-4895-9d8b-12bb72059710",
   "metadata": {
    "pycharm": {
     "name": "#%%\n"
    },
    "tags": []
   },
   "outputs": [],
   "source": [
    "# we will import everything here\n",
    "import numpy as np\n",
    "import pygame\n",
    "import random\n",
    "from pygame.locals import *\n",
    "\n",
    "from src.read_file import *\n",
    "from src.parser import *\n",
    "from src.simulation import *\n",
    "\n",
    "%reload_ext autoreload\n",
    "%autoreload 2"
   ]
  },
  {
   "cell_type": "markdown",
   "id": "cb783da9-2c19-4753-b069-8b5c14832309",
   "metadata": {
    "pycharm": {
     "name": "#%% md\n"
    }
   },
   "source": [
    "# Modeling Environment Setup"
   ]
  },
  {
   "cell_type": "code",
   "execution_count": 11,
   "id": "bc3240f7-5485-4036-b555-34910056c08c",
   "metadata": {
    "pycharm": {
     "name": "#%%\n"
    }
   },
   "outputs": [
    {
     "name": "stdout",
     "output_type": "stream",
     "text": [
      "Input state matrix: \n",
      "[[0 0 0 0 0 0]\n",
      " [0 2 0 0 0 0]\n",
      " [0 0 0 2 0 0]\n",
      " [1 0 2 2 0 0]\n",
      " [1 0 2 3 0 0]\n",
      " [0 0 2 2 0 0]]\n",
      "number of rows and columns\n",
      "6 6\n",
      "coordinate list of the pedestrians\n",
      "[[3 0]\n",
      " [4 0]]\n",
      "coordinate list of the obstacles\n",
      "[[1 1]\n",
      " [2 3]\n",
      " [3 2]\n",
      " [3 3]\n",
      " [4 2]\n",
      " [5 2]\n",
      " [5 3]]\n",
      "coordinate list of the targets\n",
      "[[4 3]]\n"
     ]
    }
   ],
   "source": [
    "# read the initial state of the cellular automata from a file\n",
    "X = read_file(\"input.txt\")\n",
    "print(\"Input state matrix: \")\n",
    "print(X)\n",
    "\n",
    "# parse the input and get the required parameters\n",
    "rows, columns, pedestrians, obstacles, targets = parser(X)\n",
    "\n",
    "print(\"number of rows and columns\")\n",
    "print(rows, columns)\n",
    "\n",
    "print(\"coordinate list of the pedestrians\")\n",
    "print(pedestrians)\n",
    "\n",
    "print(\"coordinate list of the obstacles\")\n",
    "print(obstacles)\n",
    "\n",
    "print(\"coordinate list of the targets\")\n",
    "print(targets)"
   ]
  },
  {
   "cell_type": "markdown",
   "id": "35fc75d9-03d5-4fd2-9369-da13e1508aff",
   "metadata": {
    "pycharm": {
     "name": "#%% md\n"
    }
   },
   "source": [
    "# Simulation "
   ]
  },
  {
   "cell_type": "code",
   "execution_count": 12,
   "outputs": [
    {
     "name": "stdout",
     "output_type": "stream",
     "text": [
      "[ 9.         11.36787944  9.         10.36787944]\n",
      "[10.36787944 12.         10.         11.36787944]\n",
      "[10.         10.          8.          9.36787944]\n",
      "[ 9.         11.         11.                 inf 10.36787944]\n",
      "[       inf 9.36787944 9.         7.         8.36787944]\n",
      "[ 8.36787944 10.         10.                 inf  9.36787944]\n",
      "[       inf 9.         9.         7.36787944 8.36787944]\n",
      "[6.                inf 8.36787944        inf 7.36787944]\n",
      "[7.         7.                inf 5.         6.36787944]\n",
      "[6.                inf 6.         4.         5.36787944]\n",
      "[5.         3.         5.         5.         4.36787944]\n"
     ]
    },
    {
     "ename": "KeyboardInterrupt",
     "evalue": "",
     "output_type": "error",
     "traceback": [
      "\u001B[0;31m---------------------------------------------------------------------------\u001B[0m",
      "\u001B[0;31mKeyboardInterrupt\u001B[0m                         Traceback (most recent call last)",
      "Input \u001B[0;32mIn [12]\u001B[0m, in \u001B[0;36m<cell line: 29>\u001B[0;34m()\u001B[0m\n\u001B[1;32m     88\u001B[0m sim\u001B[38;5;241m.\u001B[39mupdate(X, pedestrians)\n\u001B[1;32m     89\u001B[0m rows, columns, pedestrians, obstacles, targets \u001B[38;5;241m=\u001B[39m parser(X)\n\u001B[0;32m---> 91\u001B[0m \u001B[43mpygame\u001B[49m\u001B[38;5;241;43m.\u001B[39;49m\u001B[43mtime\u001B[49m\u001B[38;5;241;43m.\u001B[39;49m\u001B[43mdelay\u001B[49m\u001B[43m(\u001B[49m\u001B[38;5;241;43m2000\u001B[39;49m\u001B[43m)\u001B[49m\n\u001B[1;32m     92\u001B[0m clock\u001B[38;5;241m.\u001B[39mtick(\u001B[38;5;241m60\u001B[39m)\n\u001B[1;32m     93\u001B[0m \u001B[38;5;66;03m#bring the drawings to screen\u001B[39;00m\n",
      "\u001B[0;31mKeyboardInterrupt\u001B[0m: "
     ]
    }
   ],
   "source": [
    "#initiliaze colors for further use.\n",
    "# red for pedestrian ,orange for obstacle, purple for obstacle\n",
    "black = (0, 0, 0)\n",
    "white = (255, 255, 255)\n",
    "red = (255, 0, 0)\n",
    "orange=(250,89,8)\n",
    "purple=(210,8,250)\n",
    "\n",
    "#set width and height for grid rectangles and the distance between rectangles\n",
    "WIDTH = 25\n",
    "HEIGHT = 25\n",
    "MARGIN = 5\n",
    "\n",
    "#initiliaze pygame , font for P O T , and render them to place in cells\n",
    "pygame.init()\n",
    "font = pygame.font.SysFont('Calibri',20, False, False)\n",
    "pds = font.render(\"P\",True,black)\n",
    "obs = font.render(\"O\",True,black)\n",
    "tgt = font.render(\"T\",True,black)\n",
    "\n",
    "#window size is set according num of columns and rows , +1 because end and start lines should both be visible\n",
    "window_size = [columns*WIDTH+(columns+1)*MARGIN,rows*HEIGHT + (rows+1)*MARGIN]\n",
    "scr = pygame.display.set_mode(window_size)\n",
    "pygame.display.set_caption(\"Simulator\")\n",
    "done = False\n",
    "clock = pygame.time.Clock()\n",
    "\n",
    "#main loop for simulation , if quit leave loop\n",
    "while not done:\n",
    "    for event in pygame.event.get():\n",
    "        if event.type == pygame.QUIT:\n",
    "            done = True\n",
    "\n",
    "    #  elif event.type == pygame.MOUSEBUTTONDOWN:\n",
    "    #  pos = pygame.mouse.get_pos()\n",
    "    #  column = pos[0] // (WIDTH + MARGIN)\n",
    "    #  row = pos[1] // (HEIGHT + MARGIN)\n",
    "    #  grid[row][column] = 1\n",
    "    #  print(\"Click \", pos, \"Grid coordinates: \", row, column)\n",
    "\n",
    "    #color background to black, they will then become the lines between rectangles\n",
    "    scr.fill(black)\n",
    "\n",
    "    grid = []\n",
    "    # 0 = empty cell\n",
    "    for row in range(rows):\n",
    "        grid.append([])\n",
    "        for column in range(columns):\n",
    "            grid[row].append(0)\n",
    "\n",
    "    # 1 = pedestrian in cell, 2 = obstacle in cell, 3 = target in cell\n",
    "    for pedestrian in pedestrians:\n",
    "        grid[pedestrian[0]][pedestrian[1]] = 1\n",
    "    for obstacle in obstacles:\n",
    "        grid[obstacle[0]][obstacle[1]] = 2\n",
    "    for target in targets:\n",
    "        grid[target[0]][target[1]] = 3\n",
    "\n",
    "    # for each row and column draw  white rectangles\n",
    "    for row in range(rows):\n",
    "        for column in range(columns):\n",
    "            color = white\n",
    "\n",
    "            if grid[row][column] == 1:\n",
    "                color = red\n",
    "            if grid[row][column] == 2:\n",
    "                color = purple\n",
    "            if grid[row][column] == 3:\n",
    "                color = orange\n",
    "\n",
    "            pygame.draw.rect(scr,\n",
    "                             color,\n",
    "                             [(MARGIN + WIDTH) * column + MARGIN,\n",
    "                              (MARGIN + HEIGHT) * row + MARGIN,\n",
    "                              WIDTH,\n",
    "                              HEIGHT])\n",
    "\n",
    "            #put P,O,T\n",
    "            if color ==red:\n",
    "                 scr.blit(pds,[(MARGIN + WIDTH) * column + MARGIN,(MARGIN + HEIGHT) * row + MARGIN])\n",
    "            if color ==purple:\n",
    "                 scr.blit(obs,[(MARGIN + WIDTH) * column + MARGIN,(MARGIN + HEIGHT) * row + MARGIN])\n",
    "            if color ==orange:\n",
    "                 scr.blit(tgt,[(MARGIN + WIDTH) * column + MARGIN,(MARGIN + HEIGHT) * row + MARGIN])\n",
    "\n",
    "    # update positions of pedestrians\n",
    "    sim = Simulator(X, (targets[0][0], targets[0][1]))\n",
    "    sim.update(X, pedestrians)\n",
    "    rows, columns, pedestrians, obstacles, targets = parser(X)\n",
    "\n",
    "    pygame.time.delay(2000)\n",
    "    clock.tick(60)\n",
    "    #bring the drawings to screen\n",
    "    pygame.display.flip()\n",
    "pygame.quit()"
   ],
   "metadata": {
    "collapsed": false,
    "pycharm": {
     "name": "#%%\n"
    }
   }
  },
  {
   "cell_type": "code",
   "execution_count": null,
   "id": "5a4c96d3-7102-468c-a91a-402682f593ac",
   "metadata": {},
   "outputs": [],
   "source": []
  },
  {
   "cell_type": "code",
   "execution_count": null,
   "id": "46b75f17-2ff9-4713-9ba4-e45689ae1e20",
   "metadata": {},
   "outputs": [],
   "source": []
  },
  {
   "cell_type": "code",
   "execution_count": null,
   "id": "3aed0b1e-75b2-4d24-b322-d94dacae67e7",
   "metadata": {},
   "outputs": [],
   "source": []
  }
 ],
 "metadata": {
  "kernelspec": {
   "display_name": "Python 3 (ipykernel)",
   "language": "python",
   "name": "python3"
  },
  "language_info": {
   "codemirror_mode": {
    "name": "ipython",
    "version": 3
   },
   "file_extension": ".py",
   "mimetype": "text/x-python",
   "name": "python",
   "nbconvert_exporter": "python",
   "pygments_lexer": "ipython3",
   "version": "3.9.7"
  }
 },
 "nbformat": 4,
 "nbformat_minor": 5
}