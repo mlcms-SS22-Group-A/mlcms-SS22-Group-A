{
 "cells": [
  {
   "cell_type": "markdown",
   "id": "4778ecc2-725c-4bc1-9493-a2993aacda68",
   "metadata": {},
   "source": [
    "# Import Packages"
   ]
  },
  {
   "cell_type": "code",
   "execution_count": 1,
   "id": "7b09481b-f156-4895-9d8b-12bb72059710",
   "metadata": {},
   "outputs": [],
   "source": [
    "# we will import everything here\n",
    "import numpy as np\n",
    "import pygame\n",
    "import random\n",
    "from pygame.locals import *\n",
    "\n",
    "from src.read_file import *\n",
    "from src.parser import *\n",
    "\n",
    "%reload_ext autoreload \n",
    "%autoreload 2 "
   ]
  },
  {
   "cell_type": "markdown",
   "id": "cb783da9-2c19-4753-b069-8b5c14832309",
   "metadata": {},
   "source": [
    "# Modeling Environment Setup"
   ]
  },
  {
   "cell_type": "code",
   "execution_count": 2,
   "id": "bc3240f7-5485-4036-b555-34910056c08c",
   "metadata": {},
   "outputs": [
    {
     "name": "stdout",
     "output_type": "stream",
     "text": [
      "Input state matrix: \n",
      "[[0 0 0 0 0]\n",
      " [0 0 0 0 0]\n",
      " [0 1 2 3 0]\n",
      " [0 0 0 0 0]\n",
      " [0 0 0 0 0]]\n",
      "number of rows and columns\n",
      "5 5\n",
      "coordinate list of the pedestrians\n",
      "[[2 1]]\n",
      "coordinate list of the obstacles\n",
      "[[2 2]]\n",
      "coordinate list of the targets\n",
      "[[2 3]]\n"
     ]
    }
   ],
   "source": [
    "# read the initial state of the cellular automata from a file\n",
    "X = read_file(\"input.txt\")\n",
    "print(\"Input state matrix: \")\n",
    "print(X)\n",
    "\n",
    "# parse the input and get the required parameters\n",
    "rows, cols, pedestrians, obstacles, targets = parser(X)\n",
    "\n",
    "print(\"number of rows and columns\")\n",
    "print(rows, cols)\n",
    "\n",
    "print(\"coordinate list of the pedestrians\")\n",
    "print(pedestrians)\n",
    "\n",
    "print(\"coordinate list of the obstacles\")\n",
    "print(obstacles)\n",
    "\n",
    "print(\"coordinate list of the targets\")\n",
    "print(targets)"
   ]
  },
  {
   "cell_type": "markdown",
   "id": "35fc75d9-03d5-4fd2-9369-da13e1508aff",
   "metadata": {},
   "source": [
    "# Simulation "
   ]
  },
  {
   "cell_type": "code",
   "execution_count": 4,
   "id": "e9086a1e-3397-4267-a36e-0bc324b84d62",
   "metadata": {},
   "outputs": [
    {
     "ename": "NameError",
     "evalue": "name 'pygame' is not defined",
     "output_type": "error",
     "traceback": [
      "\u001b[0;31m---------------------------------------------------------------------------\u001b[0m",
      "\u001b[0;31mNameError\u001b[0m                                 Traceback (most recent call last)",
      "\u001b[0;32m/tmp/ipykernel_19748/1249685246.py\u001b[0m in \u001b[0;36m<module>\u001b[0;34m\u001b[0m\n\u001b[1;32m     22\u001b[0m         \u001b[0mgrid\u001b[0m\u001b[0;34m[\u001b[0m\u001b[0mrow\u001b[0m\u001b[0;34m]\u001b[0m\u001b[0;34m.\u001b[0m\u001b[0mappend\u001b[0m\u001b[0;34m(\u001b[0m\u001b[0;36m0\u001b[0m\u001b[0;34m)\u001b[0m\u001b[0;34m\u001b[0m\u001b[0;34m\u001b[0m\u001b[0m\n\u001b[1;32m     23\u001b[0m \u001b[0mgrid\u001b[0m\u001b[0;34m[\u001b[0m\u001b[0;36m1\u001b[0m\u001b[0;34m]\u001b[0m\u001b[0;34m[\u001b[0m\u001b[0;36m5\u001b[0m\u001b[0;34m]\u001b[0m \u001b[0;34m=\u001b[0m \u001b[0;36m1\u001b[0m\u001b[0;34m\u001b[0m\u001b[0;34m\u001b[0m\u001b[0m\n\u001b[0;32m---> 24\u001b[0;31m \u001b[0mpygame\u001b[0m\u001b[0;34m.\u001b[0m\u001b[0minit\u001b[0m\u001b[0;34m(\u001b[0m\u001b[0;34m)\u001b[0m\u001b[0;34m\u001b[0m\u001b[0;34m\u001b[0m\u001b[0m\n\u001b[0m\u001b[1;32m     25\u001b[0m \u001b[0mfont\u001b[0m \u001b[0;34m=\u001b[0m \u001b[0mpygame\u001b[0m\u001b[0;34m.\u001b[0m\u001b[0mfont\u001b[0m\u001b[0;34m.\u001b[0m\u001b[0mSysFont\u001b[0m\u001b[0;34m(\u001b[0m\u001b[0;34m'Calibri'\u001b[0m\u001b[0;34m,\u001b[0m\u001b[0;36m20\u001b[0m\u001b[0;34m,\u001b[0m \u001b[0;32mFalse\u001b[0m\u001b[0;34m,\u001b[0m \u001b[0;32mFalse\u001b[0m\u001b[0;34m)\u001b[0m\u001b[0;34m\u001b[0m\u001b[0;34m\u001b[0m\u001b[0m\n\u001b[1;32m     26\u001b[0m \u001b[0mpds\u001b[0m \u001b[0;34m=\u001b[0m \u001b[0mfont\u001b[0m\u001b[0;34m.\u001b[0m\u001b[0mrender\u001b[0m\u001b[0;34m(\u001b[0m\u001b[0;34m\"P\"\u001b[0m\u001b[0;34m,\u001b[0m\u001b[0;32mTrue\u001b[0m\u001b[0;34m,\u001b[0m\u001b[0mblack\u001b[0m\u001b[0;34m)\u001b[0m\u001b[0;34m\u001b[0m\u001b[0;34m\u001b[0m\u001b[0m\n",
      "\u001b[0;31mNameError\u001b[0m: name 'pygame' is not defined"
     ]
    }
   ],
   "source": [
    "\n",
    "\n",
    "black = (0, 0, 0)\n",
    "white = (255, 255, 255)\n",
    "red = (255, 0, 0)\n",
    "orange=(250,89,8)\n",
    "purple=(210,8,250)\n",
    "\n",
    "\n",
    "\n",
    "#parse input\n",
    "rows=20\n",
    "columns=20\n",
    "pedestrians= [[1,2],[2,3]]\n",
    "obstacles= [[5,6],[7,8]]\n",
    "targets= [[3,4],[2,5]]\n",
    "WIDTH = 25\n",
    "HEIGHT = 25\n",
    "MARGIN = 5\n",
    "grid = []\n",
    "for row in range(rows):\n",
    "    grid.append([])\n",
    "    for column in range(columns):\n",
    "        grid[row].append(0) \n",
    "grid[1][5] = 1\n",
    "pygame.init()\n",
    "font = pygame.font.SysFont('Calibri',20, False, False)\n",
    "pds = font.render(\"P\",True,black)\n",
    "obs = font.render(\"O\",True,black)\n",
    "tgt = font.render(\"T\",True,black)\n",
    "\n",
    "window_size = [columns*WIDTH+(columns+1)*MARGIN,rows*HEIGHT + (rows+1)*MARGIN]\n",
    "scr = pygame.display.set_mode(window_size)\n",
    "pygame.display.set_caption(\"Grid\")\n",
    "done = False\n",
    "clock = pygame.time.Clock()\n",
    "\n",
    "while not done:\n",
    "    for event in pygame.event.get(): \n",
    "        if event.type == pygame.QUIT: \n",
    "            done = True \n",
    "        \n",
    "      #  elif event.type == pygame.MOUSEBUTTONDOWN:\n",
    "       #     pos = pygame.mouse.get_pos()\n",
    "        #    column = pos[0] // (WIDTH + MARGIN)\n",
    "        #    row = pos[1] // (HEIGHT + MARGIN)\n",
    "         #   grid[row][column] = 1\n",
    "         #   print(\"Click \", pos, \"Grid coordinates: \", row, column)\n",
    "    scr.fill(black)\n",
    "    for pedestrian in pedestrians:\n",
    "        grid[pedestrian[0]][pedestrian[1]]=1\n",
    "       \n",
    "    for obstacle in obstacles:\n",
    "        grid[obstacle[0]][obstacle[1]]=2\n",
    "    for target in targets:\n",
    "        grid[target[0]][target[1]]=3\n",
    "\n",
    "\n",
    "    for row in range(rows):\n",
    "        for column in range(columns):\n",
    "            color = white\n",
    "         \n",
    "            if grid[row][column] == 1:\n",
    "                color = red\n",
    "\n",
    "            if grid[row][column] == 2:\n",
    "                color = purple\n",
    "            if grid[row][column] == 3:\n",
    "                color = orange\n",
    "            pygame.draw.rect(scr,\n",
    "                             color,\n",
    "                             [(MARGIN + WIDTH) * column + MARGIN,\n",
    "                              (MARGIN + HEIGHT) * row + MARGIN,\n",
    "                              WIDTH,\n",
    "                              HEIGHT])\n",
    "            if color ==red:\n",
    "                 scr.blit(pds,[(MARGIN + WIDTH) * column + MARGIN,(MARGIN + HEIGHT) * row + MARGIN])\n",
    "            if color ==purple:\n",
    "                 scr.blit(obs,[(MARGIN + WIDTH) * column + MARGIN,(MARGIN + HEIGHT) * row + MARGIN])\n",
    "            if color ==orange:\n",
    "                 scr.blit(tgt,[(MARGIN + WIDTH) * column + MARGIN,(MARGIN + HEIGHT) * row + MARGIN])\n",
    "\n",
    "          \n",
    "    clock.tick(50)\n",
    "    pygame.display.flip()\n",
    "pygame.quit()"
   ]
  }
 ],
 "metadata": {
  "kernelspec": {
   "display_name": "Python 3 (ipykernel)",
   "language": "python",
   "name": "python3"
  },
  "language_info": {
   "codemirror_mode": {
    "name": "ipython",
    "version": 3
   },
   "file_extension": ".py",
   "mimetype": "text/x-python",
   "name": "python",
   "nbconvert_exporter": "python",
   "pygments_lexer": "ipython3",
   "version": "3.9.7"
  }
 },
 "nbformat": 4,
 "nbformat_minor": 5
}
