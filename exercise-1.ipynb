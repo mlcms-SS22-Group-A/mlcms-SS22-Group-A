{
 "cells": [
  {
   "cell_type": "markdown",
   "id": "497d0bad",
   "metadata": {
    "pycharm": {
     "name": "#%% md\n"
    }
   },
   "source": [
    "# Import Packages"
   ]
  },
  {
   "cell_type": "code",
   "execution_count": 3,
   "id": "1a8e3290",
   "metadata": {
    "collapsed": false,
    "jupyter": {
     "outputs_hidden": false
    },
    "pycharm": {
     "name": "#%%\n"
    }
   },
   "outputs": [],
   "source": [
    "# everything will be imported here\n",
    "from src.euclidean_tasks import *\n",
    "from src.dijkstra_tasks import *\n",
    "from src.tester import test_it\n",
    "from matplotlib import *\n",
    "from matplotlib import pyplot as plt \n",
    "\n",
    "\n",
    "\n",
    "\n",
    "%reload_ext autoreload\n",
    "%autoreload 2"
   ]
  },
  {
   "cell_type": "markdown",
   "id": "cb783da9-2c19-4753-b069-8b5c14832309",
   "metadata": {
    "pycharm": {
     "name": "#%% md\n"
    }
   },
   "source": [
    "# Task 1/5: Setting up the modeling environment"
   ]
  },
  {
   "cell_type": "code",
   "execution_count": 23,
   "id": "bc3240f7-5485-4036-b555-34910056c08c",
   "metadata": {
    "pycharm": {
     "name": "#%%\n"
    }
   },
   "outputs": [
    {
     "ename": "error",
     "evalue": "Couldn't open output/task1/timestep0.png",
     "output_type": "error",
     "traceback": [
      "\u001b[1;31m---------------------------------------------------------------------------\u001b[0m",
      "\u001b[1;31merror\u001b[0m                                     Traceback (most recent call last)",
      "\u001b[1;32m~\\AppData\\Local\\Temp/ipykernel_13080/3003138411.py\u001b[0m in \u001b[0;36m<module>\u001b[1;34m\u001b[0m\n\u001b[0;32m      1\u001b[0m \u001b[1;31m# this code will run the simulation of the first exercise (basic visualisation)\u001b[0m\u001b[1;33m\u001b[0m\u001b[1;33m\u001b[0m\u001b[0m\n\u001b[1;32m----> 2\u001b[1;33m \u001b[0meuclidean_tasks\u001b[0m\u001b[1;33m(\u001b[0m\u001b[1;34m\"1\"\u001b[0m\u001b[1;33m)\u001b[0m\u001b[1;33m\u001b[0m\u001b[1;33m\u001b[0m\u001b[0m\n\u001b[0m",
      "\u001b[1;32m~\\Downloads\\test-rim\\mlcms-SS22-Group-A-tasks-complete\\src\\euclidean_tasks.py\u001b[0m in \u001b[0;36meuclidean_tasks\u001b[1;34m(scenario_number)\u001b[0m\n\u001b[0;32m    144\u001b[0m                     \u001b[0mscr\u001b[0m\u001b[1;33m.\u001b[0m\u001b[0mblit\u001b[0m\u001b[1;33m(\u001b[0m\u001b[0mtgt\u001b[0m\u001b[1;33m,\u001b[0m \u001b[1;33m[\u001b[0m\u001b[1;33m(\u001b[0m\u001b[0mmargin\u001b[0m \u001b[1;33m+\u001b[0m \u001b[0mwidth\u001b[0m\u001b[1;33m)\u001b[0m \u001b[1;33m*\u001b[0m \u001b[0mcolumn\u001b[0m \u001b[1;33m+\u001b[0m \u001b[0mmargin\u001b[0m\u001b[1;33m,\u001b[0m \u001b[1;33m(\u001b[0m\u001b[0mmargin\u001b[0m \u001b[1;33m+\u001b[0m \u001b[0mheight\u001b[0m\u001b[1;33m)\u001b[0m \u001b[1;33m*\u001b[0m \u001b[0mrow\u001b[0m \u001b[1;33m+\u001b[0m \u001b[0mmargin\u001b[0m\u001b[1;33m]\u001b[0m\u001b[1;33m)\u001b[0m\u001b[1;33m\u001b[0m\u001b[1;33m\u001b[0m\u001b[0m\n\u001b[0;32m    145\u001b[0m \u001b[1;33m\u001b[0m\u001b[0m\n\u001b[1;32m--> 146\u001b[1;33m         \u001b[0mpygame\u001b[0m\u001b[1;33m.\u001b[0m\u001b[0mimage\u001b[0m\u001b[1;33m.\u001b[0m\u001b[0msave\u001b[0m\u001b[1;33m(\u001b[0m\u001b[0mscr\u001b[0m\u001b[1;33m,\u001b[0m \u001b[1;34m\"output/task\"\u001b[0m \u001b[1;33m+\u001b[0m \u001b[0mstr\u001b[0m\u001b[1;33m(\u001b[0m\u001b[0mscenario_number\u001b[0m\u001b[1;33m)\u001b[0m \u001b[1;33m+\u001b[0m \u001b[1;34m\"/timestep\"\u001b[0m \u001b[1;33m+\u001b[0m \u001b[0mstr\u001b[0m\u001b[1;33m(\u001b[0m\u001b[0mtimestep\u001b[0m\u001b[1;33m)\u001b[0m \u001b[1;33m+\u001b[0m \u001b[1;34m\".png\"\u001b[0m\u001b[1;33m)\u001b[0m\u001b[1;33m\u001b[0m\u001b[1;33m\u001b[0m\u001b[0m\n\u001b[0m\u001b[0;32m    147\u001b[0m \u001b[1;33m\u001b[0m\u001b[0m\n\u001b[0;32m    148\u001b[0m         \u001b[1;31m# update positions of pedestrians, after that update their distance to target\u001b[0m\u001b[1;33m\u001b[0m\u001b[1;33m\u001b[0m\u001b[0m\n",
      "\u001b[1;31merror\u001b[0m: Couldn't open output/task1/timestep0.png"
     ]
    }
   ],
   "source": [
    "# this code will run the simulation of the first exercise (basic visualisation)\n",
    "euclidean_tasks(\"1\")"
   ]
  },
  {
   "cell_type": "markdown",
   "id": "35fc75d9-03d5-4fd2-9369-da13e1508aff",
   "metadata": {
    "pycharm": {
     "name": "#%% md\n"
    }
   },
   "source": [
    "# Task 2/5: First step of a single pedestrian"
   ]
  },
  {
   "cell_type": "code",
   "execution_count": null,
   "id": "d5382448",
   "metadata": {
    "collapsed": false,
    "jupyter": {
     "outputs_hidden": false
    },
    "pycharm": {
     "name": "#%%\n"
    }
   },
   "outputs": [],
   "source": [
    "# this code will run the simulation of the second exercise (single pedestrian)\n",
    "euclidean_tasks(\"2\")"
   ]
  },
  {
   "cell_type": "markdown",
   "id": "d98f8c41-d566-43a7-b71e-6ff06c084ff1",
   "metadata": {
    "pycharm": {
     "name": "#%% md\n"
    }
   },
   "source": [
    "# Task 3/5: Interaction of pedestrians"
   ]
  },
  {
   "cell_type": "code",
   "execution_count": null,
   "id": "5023959f",
   "metadata": {
    "collapsed": false,
    "jupyter": {
     "outputs_hidden": false
    },
    "pycharm": {
     "name": "#%%\n"
    }
   },
   "outputs": [],
   "source": [
    "# this code will run the simulation of the third exercise (multiple pedestrians at roughly same distance to target)\n",
    "euclidean_tasks(\"3\")"
   ]
  },
  {
   "cell_type": "markdown",
   "id": "26766276-f9e4-4cfc-972b-e1654851475c",
   "metadata": {
    "pycharm": {
     "name": "#%% md\n"
    }
   },
   "source": [
    "# Task 4/5: Obstacle avoidance"
   ]
  },
  {
   "cell_type": "code",
   "execution_count": null,
   "id": "ad3b349c",
   "metadata": {
    "collapsed": false,
    "jupyter": {
     "outputs_hidden": false
    },
    "pycharm": {
     "name": "#%%\n"
    }
   },
   "outputs": [],
   "source": [
    "# this code will run the simulation of the fourth exercise (obstacle avoidance and dijkstra)\n",
    "dijkstra_tasks(\"4\",False)"
   ]
  },
  {
   "cell_type": "markdown",
   "id": "f4624c4b",
   "metadata": {
    "pycharm": {
     "name": "#%% md\n"
    }
   },
   "source": [
    "# Task 5/5: RiMEA Scenarios"
   ]
  },
  {
   "cell_type": "code",
   "execution_count": 4,
   "id": "5b170416",
   "metadata": {
    "collapsed": false,
    "jupyter": {
     "outputs_hidden": false
    },
    "pycharm": {
     "name": "#%%\n"
    }
   },
   "outputs": [
    {
     "name": "stdout",
     "output_type": "stream",
     "text": [
      "1.1787134033122373\n",
      "1.162489023577251\n",
      "1.1281068472076619\n",
      "1.00014702857256\n",
      "0.8850349577564021\n",
      "0.8397152889122002\n"
     ]
    },
    {
     "data": {
      "image/png": "[encoded data removed]",
      "text/plain": [
       "<Figure size 432x288 with 1 Axes>"
      ]
     },
     "metadata": {
      "needs_background": "light"
     },
     "output_type": "display_data"
    }
   ],
   "source": [
    "# this code will run the simulation of the fifth exercise (test scenarios)\n",
    "(x,y)=test_it(\"5-6\")\n",
    "plt.xlabel(\"density\") \n",
    "plt.ylabel(\"flow\") \n",
    "plt.plot(x, y)\n",
    "plt.show()\n"
   ]
  },
  {
   "cell_type": "code",
   "execution_count": null,
   "id": "f5b16d4c-019b-46ce-8fc1-e80e0abebbb2",
   "metadata": {},
   "outputs": [],
   "source": []
  }
 ],
 "metadata": {
  "kernelspec": {
   "display_name": "Python 3 (ipykernel)",
   "language": "python",
   "name": "python3"
  },
  "language_info": {
   "codemirror_mode": {
    "name": "ipython",
    "version": 3
   },
   "file_extension": ".py",
   "mimetype": "text/x-python",
   "name": "python",
   "nbconvert_exporter": "python",
   "pygments_lexer": "ipython3",
   "version": "3.9.7"
  }
 },
 "nbformat": 4,
 "nbformat_minor": 5
}
