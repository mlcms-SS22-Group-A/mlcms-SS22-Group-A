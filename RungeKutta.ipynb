{
 "cells": [
  {
   "cell_type": "markdown",
   "metadata": {
    "pycharm": {
     "name": "#%% md\n"
    }
   },
   "source": [
    "# Import everything here"
   ]
  },
  {
   "cell_type": "code",
   "execution_count": 22,
   "outputs": [],
   "source": [
    "from data_module import *\n",
    "from RungeKutta import *\n",
    "\n",
    "%reload_ext autoreload\n",
    "%autoreload 2"
   ],
   "metadata": {
    "collapsed": false,
    "pycharm": {
     "name": "#%%\n"
    }
   }
  },
  {
   "cell_type": "markdown",
   "source": [
    "# Define notebook parameters"
   ],
   "metadata": {
    "collapsed": false,
    "pycharm": {
     "name": "#%% md\n"
    }
   }
  },
  {
   "cell_type": "code",
   "execution_count": 23,
   "outputs": [],
   "source": [
    "device = torch.device(\"cuda\" if torch.cuda.is_available() else \"cpu\")\n",
    "\n",
    "alpha = 1.3\n",
    "delta_t = 0.5\n",
    "t_eval = np.arange(0, 5, delta_t)\n",
    "num_samples_in_trajectory = math.floor(t_eval[-1] / delta_t)\n",
    "\n",
    "save_location = \"./figures/alpha_1,3_\""
   ],
   "metadata": {
    "collapsed": false,
    "pycharm": {
     "name": "#%%\n"
    }
   }
  },
  {
   "cell_type": "markdown",
   "source": [
    "# Setup Tensorboard"
   ],
   "metadata": {
    "collapsed": false,
    "pycharm": {
     "name": "#%% md\n"
    }
   }
  },
  {
   "cell_type": "code",
   "execution_count": 24,
   "outputs": [
    {
     "name": "stdout",
     "output_type": "stream",
     "text": [
      "The tensorboard extension is already loaded. To reload it, use:\n",
      "  %reload_ext tensorboard\n"
     ]
    },
    {
     "data": {
      "text/plain": "Launching TensorBoard..."
     },
     "metadata": {},
     "output_type": "display_data"
    }
   ],
   "source": [
    "%load_ext tensorboard\n",
    "%tensorboard --logdir runge-kutta --port 6006"
   ],
   "metadata": {
    "collapsed": false,
    "pycharm": {
     "name": "#%%\n"
    }
   }
  },
  {
   "cell_type": "markdown",
   "source": [
    "# Create dataset"
   ],
   "metadata": {
    "collapsed": false,
    "pycharm": {
     "name": "#%% md\n"
    }
   }
  },
  {
   "cell_type": "code",
   "execution_count": 25,
   "outputs": [],
   "source": [
    "dataset = create_dataset(alpha, t_eval, 50)"
   ],
   "metadata": {
    "collapsed": false,
    "pycharm": {
     "name": "#%%\n"
    }
   }
  },
  {
   "cell_type": "markdown",
   "source": [
    "# Reshape dataset"
   ],
   "metadata": {
    "collapsed": false,
    "pycharm": {
     "name": "#%% md\n"
    }
   }
  },
  {
   "cell_type": "code",
   "execution_count": 26,
   "outputs": [],
   "source": [
    "dataset = reshape_dataset(dataset)"
   ],
   "metadata": {
    "collapsed": false,
    "pycharm": {
     "name": "#%%\n"
    }
   }
  },
  {
   "cell_type": "markdown",
   "source": [
    "# Split dataset"
   ],
   "metadata": {
    "collapsed": false,
    "pycharm": {
     "name": "#%% md\n"
    }
   }
  },
  {
   "cell_type": "code",
   "execution_count": 27,
   "outputs": [],
   "source": [
    "training_set, validation_set, test_set = split_dataset(dataset, 0.6, 0.2, 0.2)"
   ],
   "metadata": {
    "collapsed": false,
    "pycharm": {
     "name": "#%%\n"
    }
   }
  },
  {
   "cell_type": "markdown",
   "source": [
    "# Create NN model and define hyperparameters"
   ],
   "metadata": {
    "collapsed": false,
    "pycharm": {
     "name": "#%% md\n"
    }
   }
  },
  {
   "cell_type": "code",
   "execution_count": 28,
   "outputs": [],
   "source": [
    "hparams = {\n",
    "    \"hidden_layer_1\": 512,\n",
    "    \"hidden_layer_2\": 512,\n",
    "    \"hidden_layer_3\": 512,\n",
    "    \"delta_t\": delta_t,\n",
    "    \"batch_size\": 8,\n",
    "    \"learning_rate\": 1e-3,\n",
    "    \"num_workers\": 8,\n",
    "}"
   ],
   "metadata": {
    "collapsed": false,
    "pycharm": {
     "name": "#%%\n"
    }
   }
  },
  {
   "cell_type": "code",
   "execution_count": 29,
   "outputs": [],
   "source": [
    "model = RungeKutta(hparams)"
   ],
   "metadata": {
    "collapsed": false,
    "pycharm": {
     "name": "#%%\n"
    }
   }
  },
  {
   "cell_type": "markdown",
   "source": [
    "# Original Data"
   ],
   "metadata": {
    "collapsed": false,
    "pycharm": {
     "name": "#%% md\n"
    }
   }
  },
  {
   "cell_type": "code",
   "execution_count": 30,
   "outputs": [],
   "source": [
    "t_eval = np.delete(t_eval, -1, 0)"
   ],
   "metadata": {
    "collapsed": false,
    "pycharm": {
     "name": "#%%\n"
    }
   }
  },
  {
   "cell_type": "code",
   "execution_count": 35,
   "outputs": [
    {
     "ename": "AttributeError",
     "evalue": "module 'matplotlib' has no attribute 'path'",
     "output_type": "error",
     "traceback": [
      "\u001B[0;31m---------------------------------------------------------------------------\u001B[0m",
      "\u001B[0;31mAttributeError\u001B[0m                            Traceback (most recent call last)",
      "Input \u001B[0;32mIn [35]\u001B[0m, in \u001B[0;36m<cell line: 1>\u001B[0;34m()\u001B[0m\n\u001B[0;32m----> 1\u001B[0m \u001B[43mplot_trajectory\u001B[49m\u001B[43m(\u001B[49m\u001B[43mvalidation_set\u001B[49m\u001B[43m[\u001B[49m\u001B[43m:\u001B[49m\u001B[43mnum_samples_in_trajectory\u001B[49m\u001B[43m,\u001B[49m\u001B[43m \u001B[49m\u001B[38;5;241;43m0\u001B[39;49m\u001B[43m]\u001B[49m\u001B[43m,\u001B[49m\u001B[43m \u001B[49m\u001B[43mt_eval\u001B[49m\u001B[43m,\u001B[49m\u001B[43m \u001B[49m\u001B[38;5;28;43;01mTrue\u001B[39;49;00m\u001B[43m,\u001B[49m\u001B[43m \u001B[49m\u001B[38;5;124;43m\"\u001B[39;49m\u001B[38;5;124;43m./figures/v0_alpha_1,3_original_data.png\u001B[39;49m\u001B[38;5;124;43m\"\u001B[39;49m\u001B[43m)\u001B[49m\n",
      "File \u001B[0;32m~/Desktop/mlcms-SS22-Group-A/data_module.py:77\u001B[0m, in \u001B[0;36mplot_trajectory\u001B[0;34m(sol, t_eval, save_fig, figure_save_path)\u001B[0m\n\u001B[1;32m     75\u001B[0m \u001B[38;5;28;01mdef\u001B[39;00m \u001B[38;5;21mplot_trajectory\u001B[39m(sol, t_eval, save_fig\u001B[38;5;241m=\u001B[39m\u001B[38;5;28;01mFalse\u001B[39;00m, figure_save_path\u001B[38;5;241m=\u001B[39m\u001B[38;5;124m\"\u001B[39m\u001B[38;5;124m\"\u001B[39m):\n\u001B[1;32m     76\u001B[0m     fig \u001B[38;5;241m=\u001B[39m plt\u001B[38;5;241m.\u001B[39mfigure(figsize\u001B[38;5;241m=\u001B[39m(\u001B[38;5;241m10\u001B[39m, \u001B[38;5;241m10\u001B[39m))\n\u001B[0;32m---> 77\u001B[0m     ax0 \u001B[38;5;241m=\u001B[39m \u001B[43mplt\u001B[49m\u001B[38;5;241;43m.\u001B[39;49m\u001B[43maxes\u001B[49m\u001B[43m(\u001B[49m\u001B[43mprojection\u001B[49m\u001B[38;5;241;43m=\u001B[39;49m\u001B[38;5;124;43m\"\u001B[39;49m\u001B[38;5;124;43m3d\u001B[39;49m\u001B[38;5;124;43m\"\u001B[39;49m\u001B[43m)\u001B[49m\n\u001B[1;32m     78\u001B[0m     ax0\u001B[38;5;241m.\u001B[39mplot(t_eval, sol[:, \u001B[38;5;241m0\u001B[39m], sol[:, \u001B[38;5;241m1\u001B[39m], color\u001B[38;5;241m=\u001B[39m\u001B[38;5;124m\"\u001B[39m\u001B[38;5;124mr\u001B[39m\u001B[38;5;124m\"\u001B[39m)\n\u001B[1;32m     80\u001B[0m     ax0\u001B[38;5;241m.\u001B[39mset_xlabel(\u001B[38;5;124mr\u001B[39m\u001B[38;5;124m\"\u001B[39m\u001B[38;5;124m$t$\u001B[39m\u001B[38;5;124m\"\u001B[39m, fontsize\u001B[38;5;241m=\u001B[39m\u001B[38;5;241m20\u001B[39m)\n",
      "File \u001B[0;32m~/anaconda3/envs/i2dl/lib/python3.10/site-packages/matplotlib/pyplot.py:1065\u001B[0m, in \u001B[0;36maxes\u001B[0;34m(arg, **kwargs)\u001B[0m\n\u001B[1;32m   1063\u001B[0m \u001B[38;5;28;01mif\u001B[39;00m arg \u001B[38;5;129;01mis\u001B[39;00m \u001B[38;5;28;01mNone\u001B[39;00m:\n\u001B[1;32m   1064\u001B[0m     \u001B[38;5;28;01mif\u001B[39;00m pos \u001B[38;5;129;01mis\u001B[39;00m \u001B[38;5;28;01mNone\u001B[39;00m:\n\u001B[0;32m-> 1065\u001B[0m         \u001B[38;5;28;01mreturn\u001B[39;00m \u001B[43mfig\u001B[49m\u001B[38;5;241;43m.\u001B[39;49m\u001B[43madd_subplot\u001B[49m\u001B[43m(\u001B[49m\u001B[38;5;241;43m*\u001B[39;49m\u001B[38;5;241;43m*\u001B[39;49m\u001B[43mkwargs\u001B[49m\u001B[43m)\u001B[49m\n\u001B[1;32m   1066\u001B[0m     \u001B[38;5;28;01melse\u001B[39;00m:\n\u001B[1;32m   1067\u001B[0m         \u001B[38;5;28;01mreturn\u001B[39;00m fig\u001B[38;5;241m.\u001B[39madd_axes(pos, \u001B[38;5;241m*\u001B[39m\u001B[38;5;241m*\u001B[39mkwargs)\n",
      "File \u001B[0;32m~/anaconda3/envs/i2dl/lib/python3.10/site-packages/matplotlib/figure.py:772\u001B[0m, in \u001B[0;36mFigureBase.add_subplot\u001B[0;34m(self, *args, **kwargs)\u001B[0m\n\u001B[1;32m    769\u001B[0m         args \u001B[38;5;241m=\u001B[39m \u001B[38;5;28mtuple\u001B[39m(\u001B[38;5;28mmap\u001B[39m(\u001B[38;5;28mint\u001B[39m, \u001B[38;5;28mstr\u001B[39m(args[\u001B[38;5;241m0\u001B[39m])))\n\u001B[1;32m    770\u001B[0m     projection_class, pkw \u001B[38;5;241m=\u001B[39m \u001B[38;5;28mself\u001B[39m\u001B[38;5;241m.\u001B[39m_process_projection_requirements(\n\u001B[1;32m    771\u001B[0m         \u001B[38;5;241m*\u001B[39margs, \u001B[38;5;241m*\u001B[39m\u001B[38;5;241m*\u001B[39mkwargs)\n\u001B[0;32m--> 772\u001B[0m     ax \u001B[38;5;241m=\u001B[39m \u001B[43msubplot_class_factory\u001B[49m\u001B[43m(\u001B[49m\u001B[43mprojection_class\u001B[49m\u001B[43m)\u001B[49m\u001B[43m(\u001B[49m\u001B[38;5;28;43mself\u001B[39;49m\u001B[43m,\u001B[49m\u001B[43m \u001B[49m\u001B[38;5;241;43m*\u001B[39;49m\u001B[43margs\u001B[49m\u001B[43m,\u001B[49m\u001B[43m \u001B[49m\u001B[38;5;241;43m*\u001B[39;49m\u001B[38;5;241;43m*\u001B[39;49m\u001B[43mpkw\u001B[49m\u001B[43m)\u001B[49m\n\u001B[1;32m    773\u001B[0m     key \u001B[38;5;241m=\u001B[39m (projection_class, pkw)\n\u001B[1;32m    774\u001B[0m \u001B[38;5;28;01mreturn\u001B[39;00m \u001B[38;5;28mself\u001B[39m\u001B[38;5;241m.\u001B[39m_add_axes_internal(ax, key)\n",
      "File \u001B[0;32m~/anaconda3/envs/i2dl/lib/python3.10/site-packages/matplotlib/axes/_subplots.py:34\u001B[0m, in \u001B[0;36mSubplotBase.__init__\u001B[0;34m(self, fig, *args, **kwargs)\u001B[0m\n\u001B[1;32m     15\u001B[0m \u001B[38;5;124;03m\"\"\"\u001B[39;00m\n\u001B[1;32m     16\u001B[0m \u001B[38;5;124;03mParameters\u001B[39;00m\n\u001B[1;32m     17\u001B[0m \u001B[38;5;124;03m----------\u001B[39;00m\n\u001B[0;32m   (...)\u001B[0m\n\u001B[1;32m     31\u001B[0m \u001B[38;5;124;03m    Keyword arguments are passed to the Axes (sub)class constructor.\u001B[39;00m\n\u001B[1;32m     32\u001B[0m \u001B[38;5;124;03m\"\"\"\u001B[39;00m\n\u001B[1;32m     33\u001B[0m \u001B[38;5;66;03m# _axes_class is set in the subplot_class_factory\u001B[39;00m\n\u001B[0;32m---> 34\u001B[0m \u001B[38;5;28;43mself\u001B[39;49m\u001B[38;5;241;43m.\u001B[39;49m\u001B[43m_axes_class\u001B[49m\u001B[38;5;241;43m.\u001B[39;49m\u001B[38;5;21;43m__init__\u001B[39;49m\u001B[43m(\u001B[49m\u001B[38;5;28;43mself\u001B[39;49m\u001B[43m,\u001B[49m\u001B[43m \u001B[49m\u001B[43mfig\u001B[49m\u001B[43m,\u001B[49m\u001B[43m \u001B[49m\u001B[43m[\u001B[49m\u001B[38;5;241;43m0\u001B[39;49m\u001B[43m,\u001B[49m\u001B[43m \u001B[49m\u001B[38;5;241;43m0\u001B[39;49m\u001B[43m,\u001B[49m\u001B[43m \u001B[49m\u001B[38;5;241;43m1\u001B[39;49m\u001B[43m,\u001B[49m\u001B[43m \u001B[49m\u001B[38;5;241;43m1\u001B[39;49m\u001B[43m]\u001B[49m\u001B[43m,\u001B[49m\u001B[43m \u001B[49m\u001B[38;5;241;43m*\u001B[39;49m\u001B[38;5;241;43m*\u001B[39;49m\u001B[43mkwargs\u001B[49m\u001B[43m)\u001B[49m\n\u001B[1;32m     35\u001B[0m \u001B[38;5;66;03m# This will also update the axes position.\u001B[39;00m\n\u001B[1;32m     36\u001B[0m \u001B[38;5;28mself\u001B[39m\u001B[38;5;241m.\u001B[39mset_subplotspec(SubplotSpec\u001B[38;5;241m.\u001B[39m_from_subplot_args(fig, args))\n",
      "File \u001B[0;32m~/anaconda3/envs/i2dl/lib/python3.10/site-packages/mpl_toolkits/mplot3d/axes3d.py:125\u001B[0m, in \u001B[0;36mAxes3D.__init__\u001B[0;34m(self, fig, rect, azim, elev, sharez, proj_type, box_aspect, computed_zorder, *args, **kwargs)\u001B[0m\n\u001B[1;32m    121\u001B[0m     \u001B[38;5;28mself\u001B[39m\u001B[38;5;241m.\u001B[39m_adjustable \u001B[38;5;241m=\u001B[39m \u001B[38;5;124m'\u001B[39m\u001B[38;5;124mdatalim\u001B[39m\u001B[38;5;124m'\u001B[39m\n\u001B[1;32m    123\u001B[0m auto_add_to_figure \u001B[38;5;241m=\u001B[39m kwargs\u001B[38;5;241m.\u001B[39mpop(\u001B[38;5;124m'\u001B[39m\u001B[38;5;124mauto_add_to_figure\u001B[39m\u001B[38;5;124m'\u001B[39m, \u001B[38;5;28;01mTrue\u001B[39;00m)\n\u001B[0;32m--> 125\u001B[0m \u001B[38;5;28;43msuper\u001B[39;49m\u001B[43m(\u001B[49m\u001B[43m)\u001B[49m\u001B[38;5;241;43m.\u001B[39;49m\u001B[38;5;21;43m__init__\u001B[39;49m\u001B[43m(\u001B[49m\n\u001B[1;32m    126\u001B[0m \u001B[43m    \u001B[49m\u001B[43mfig\u001B[49m\u001B[43m,\u001B[49m\u001B[43m \u001B[49m\u001B[43mrect\u001B[49m\u001B[43m,\u001B[49m\u001B[43m \u001B[49m\u001B[43mframeon\u001B[49m\u001B[38;5;241;43m=\u001B[39;49m\u001B[38;5;28;43;01mTrue\u001B[39;49;00m\u001B[43m,\u001B[49m\u001B[43m \u001B[49m\u001B[43mbox_aspect\u001B[49m\u001B[38;5;241;43m=\u001B[39;49m\u001B[43mbox_aspect\u001B[49m\u001B[43m,\u001B[49m\u001B[43m \u001B[49m\u001B[38;5;241;43m*\u001B[39;49m\u001B[43margs\u001B[49m\u001B[43m,\u001B[49m\u001B[43m \u001B[49m\u001B[38;5;241;43m*\u001B[39;49m\u001B[38;5;241;43m*\u001B[39;49m\u001B[43mkwargs\u001B[49m\n\u001B[1;32m    127\u001B[0m \u001B[43m\u001B[49m\u001B[43m)\u001B[49m\n\u001B[1;32m    128\u001B[0m \u001B[38;5;66;03m# Disable drawing of axes by base class\u001B[39;00m\n\u001B[1;32m    129\u001B[0m \u001B[38;5;28msuper\u001B[39m()\u001B[38;5;241m.\u001B[39mset_axis_off()\n",
      "File \u001B[0;32m~/anaconda3/envs/i2dl/lib/python3.10/site-packages/matplotlib/_api/deprecation.py:456\u001B[0m, in \u001B[0;36mmake_keyword_only.<locals>.wrapper\u001B[0;34m(*args, **kwargs)\u001B[0m\n\u001B[1;32m    450\u001B[0m \u001B[38;5;28;01mif\u001B[39;00m \u001B[38;5;28mlen\u001B[39m(args) \u001B[38;5;241m>\u001B[39m name_idx:\n\u001B[1;32m    451\u001B[0m     warn_deprecated(\n\u001B[1;32m    452\u001B[0m         since, message\u001B[38;5;241m=\u001B[39m\u001B[38;5;124m\"\u001B[39m\u001B[38;5;124mPassing the \u001B[39m\u001B[38;5;132;01m%(name)s\u001B[39;00m\u001B[38;5;124m \u001B[39m\u001B[38;5;132;01m%(obj_type)s\u001B[39;00m\u001B[38;5;124m \u001B[39m\u001B[38;5;124m\"\u001B[39m\n\u001B[1;32m    453\u001B[0m         \u001B[38;5;124m\"\u001B[39m\u001B[38;5;124mpositionally is deprecated since Matplotlib \u001B[39m\u001B[38;5;132;01m%(since)s\u001B[39;00m\u001B[38;5;124m; the \u001B[39m\u001B[38;5;124m\"\u001B[39m\n\u001B[1;32m    454\u001B[0m         \u001B[38;5;124m\"\u001B[39m\u001B[38;5;124mparameter will become keyword-only \u001B[39m\u001B[38;5;132;01m%(removal)s\u001B[39;00m\u001B[38;5;124m.\u001B[39m\u001B[38;5;124m\"\u001B[39m,\n\u001B[1;32m    455\u001B[0m         name\u001B[38;5;241m=\u001B[39mname, obj_type\u001B[38;5;241m=\u001B[39m\u001B[38;5;124mf\u001B[39m\u001B[38;5;124m\"\u001B[39m\u001B[38;5;124mparameter of \u001B[39m\u001B[38;5;132;01m{\u001B[39;00mfunc\u001B[38;5;241m.\u001B[39m\u001B[38;5;18m__name__\u001B[39m\u001B[38;5;132;01m}\u001B[39;00m\u001B[38;5;124m()\u001B[39m\u001B[38;5;124m\"\u001B[39m)\n\u001B[0;32m--> 456\u001B[0m \u001B[38;5;28;01mreturn\u001B[39;00m \u001B[43mfunc\u001B[49m\u001B[43m(\u001B[49m\u001B[38;5;241;43m*\u001B[39;49m\u001B[43margs\u001B[49m\u001B[43m,\u001B[49m\u001B[43m \u001B[49m\u001B[38;5;241;43m*\u001B[39;49m\u001B[38;5;241;43m*\u001B[39;49m\u001B[43mkwargs\u001B[49m\u001B[43m)\u001B[49m\n",
      "File \u001B[0;32m~/anaconda3/envs/i2dl/lib/python3.10/site-packages/matplotlib/axes/_base.py:621\u001B[0m, in \u001B[0;36m_AxesBase.__init__\u001B[0;34m(self, fig, rect, facecolor, frameon, sharex, sharey, label, xscale, yscale, box_aspect, **kwargs)\u001B[0m\n\u001B[1;32m    618\u001B[0m \u001B[38;5;66;03m# placeholder for any colorbars added that use this Axes.\u001B[39;00m\n\u001B[1;32m    619\u001B[0m \u001B[38;5;66;03m# (see colorbar.py):\u001B[39;00m\n\u001B[1;32m    620\u001B[0m \u001B[38;5;28mself\u001B[39m\u001B[38;5;241m.\u001B[39m_colorbars \u001B[38;5;241m=\u001B[39m []\n\u001B[0;32m--> 621\u001B[0m \u001B[38;5;28mself\u001B[39m\u001B[38;5;241m.\u001B[39mspines \u001B[38;5;241m=\u001B[39m mspines\u001B[38;5;241m.\u001B[39mSpines\u001B[38;5;241m.\u001B[39mfrom_dict(\u001B[38;5;28;43mself\u001B[39;49m\u001B[38;5;241;43m.\u001B[39;49m\u001B[43m_gen_axes_spines\u001B[49m\u001B[43m(\u001B[49m\u001B[43m)\u001B[49m)\n\u001B[1;32m    623\u001B[0m \u001B[38;5;66;03m# this call may differ for non-sep axes, e.g., polar\u001B[39;00m\n\u001B[1;32m    624\u001B[0m \u001B[38;5;28mself\u001B[39m\u001B[38;5;241m.\u001B[39m_init_axis()\n",
      "File \u001B[0;32m~/anaconda3/envs/i2dl/lib/python3.10/site-packages/matplotlib/axes/_base.py:1141\u001B[0m, in \u001B[0;36m_AxesBase._gen_axes_spines\u001B[0;34m(self, locations, offset, units)\u001B[0m\n\u001B[1;32m   1126\u001B[0m \u001B[38;5;28;01mdef\u001B[39;00m \u001B[38;5;21m_gen_axes_spines\u001B[39m(\u001B[38;5;28mself\u001B[39m, locations\u001B[38;5;241m=\u001B[39m\u001B[38;5;28;01mNone\u001B[39;00m, offset\u001B[38;5;241m=\u001B[39m\u001B[38;5;241m0.0\u001B[39m, units\u001B[38;5;241m=\u001B[39m\u001B[38;5;124m'\u001B[39m\u001B[38;5;124minches\u001B[39m\u001B[38;5;124m'\u001B[39m):\n\u001B[1;32m   1127\u001B[0m     \u001B[38;5;124;03m\"\"\"\u001B[39;00m\n\u001B[1;32m   1128\u001B[0m \u001B[38;5;124;03m    Returns\u001B[39;00m\n\u001B[1;32m   1129\u001B[0m \u001B[38;5;124;03m    -------\u001B[39;00m\n\u001B[0;32m   (...)\u001B[0m\n\u001B[1;32m   1139\u001B[0m \u001B[38;5;124;03m    Intended to be overridden by new projection types.\u001B[39;00m\n\u001B[1;32m   1140\u001B[0m \u001B[38;5;124;03m    \"\"\"\u001B[39;00m\n\u001B[0;32m-> 1141\u001B[0m     \u001B[38;5;28;01mreturn\u001B[39;00m \u001B[43mOrderedDict\u001B[49m\u001B[43m(\u001B[49m\u001B[43m(\u001B[49m\u001B[43mside\u001B[49m\u001B[43m,\u001B[49m\u001B[43m \u001B[49m\u001B[43mmspines\u001B[49m\u001B[38;5;241;43m.\u001B[39;49m\u001B[43mSpine\u001B[49m\u001B[38;5;241;43m.\u001B[39;49m\u001B[43mlinear_spine\u001B[49m\u001B[43m(\u001B[49m\u001B[38;5;28;43mself\u001B[39;49m\u001B[43m,\u001B[49m\u001B[43m \u001B[49m\u001B[43mside\u001B[49m\u001B[43m)\u001B[49m\u001B[43m)\u001B[49m\n\u001B[1;32m   1142\u001B[0m \u001B[43m                       \u001B[49m\u001B[38;5;28;43;01mfor\u001B[39;49;00m\u001B[43m \u001B[49m\u001B[43mside\u001B[49m\u001B[43m \u001B[49m\u001B[38;5;129;43;01min\u001B[39;49;00m\u001B[43m \u001B[49m\u001B[43m[\u001B[49m\u001B[38;5;124;43m'\u001B[39;49m\u001B[38;5;124;43mleft\u001B[39;49m\u001B[38;5;124;43m'\u001B[39;49m\u001B[43m,\u001B[49m\u001B[43m \u001B[49m\u001B[38;5;124;43m'\u001B[39;49m\u001B[38;5;124;43mright\u001B[39;49m\u001B[38;5;124;43m'\u001B[39;49m\u001B[43m,\u001B[49m\u001B[43m \u001B[49m\u001B[38;5;124;43m'\u001B[39;49m\u001B[38;5;124;43mbottom\u001B[39;49m\u001B[38;5;124;43m'\u001B[39;49m\u001B[43m,\u001B[49m\u001B[43m \u001B[49m\u001B[38;5;124;43m'\u001B[39;49m\u001B[38;5;124;43mtop\u001B[39;49m\u001B[38;5;124;43m'\u001B[39;49m\u001B[43m]\u001B[49m\u001B[43m)\u001B[49m\n",
      "File \u001B[0;32m~/anaconda3/envs/i2dl/lib/python3.10/site-packages/matplotlib/axes/_base.py:1141\u001B[0m, in \u001B[0;36m<genexpr>\u001B[0;34m(.0)\u001B[0m\n\u001B[1;32m   1126\u001B[0m \u001B[38;5;28;01mdef\u001B[39;00m \u001B[38;5;21m_gen_axes_spines\u001B[39m(\u001B[38;5;28mself\u001B[39m, locations\u001B[38;5;241m=\u001B[39m\u001B[38;5;28;01mNone\u001B[39;00m, offset\u001B[38;5;241m=\u001B[39m\u001B[38;5;241m0.0\u001B[39m, units\u001B[38;5;241m=\u001B[39m\u001B[38;5;124m'\u001B[39m\u001B[38;5;124minches\u001B[39m\u001B[38;5;124m'\u001B[39m):\n\u001B[1;32m   1127\u001B[0m     \u001B[38;5;124;03m\"\"\"\u001B[39;00m\n\u001B[1;32m   1128\u001B[0m \u001B[38;5;124;03m    Returns\u001B[39;00m\n\u001B[1;32m   1129\u001B[0m \u001B[38;5;124;03m    -------\u001B[39;00m\n\u001B[0;32m   (...)\u001B[0m\n\u001B[1;32m   1139\u001B[0m \u001B[38;5;124;03m    Intended to be overridden by new projection types.\u001B[39;00m\n\u001B[1;32m   1140\u001B[0m \u001B[38;5;124;03m    \"\"\"\u001B[39;00m\n\u001B[0;32m-> 1141\u001B[0m     \u001B[38;5;28;01mreturn\u001B[39;00m OrderedDict((side, \u001B[43mmspines\u001B[49m\u001B[38;5;241;43m.\u001B[39;49m\u001B[43mSpine\u001B[49m\u001B[38;5;241;43m.\u001B[39;49m\u001B[43mlinear_spine\u001B[49m\u001B[43m(\u001B[49m\u001B[38;5;28;43mself\u001B[39;49m\u001B[43m,\u001B[49m\u001B[43m \u001B[49m\u001B[43mside\u001B[49m\u001B[43m)\u001B[49m)\n\u001B[1;32m   1142\u001B[0m                        \u001B[38;5;28;01mfor\u001B[39;00m side \u001B[38;5;129;01min\u001B[39;00m [\u001B[38;5;124m'\u001B[39m\u001B[38;5;124mleft\u001B[39m\u001B[38;5;124m'\u001B[39m, \u001B[38;5;124m'\u001B[39m\u001B[38;5;124mright\u001B[39m\u001B[38;5;124m'\u001B[39m, \u001B[38;5;124m'\u001B[39m\u001B[38;5;124mbottom\u001B[39m\u001B[38;5;124m'\u001B[39m, \u001B[38;5;124m'\u001B[39m\u001B[38;5;124mtop\u001B[39m\u001B[38;5;124m'\u001B[39m])\n",
      "File \u001B[0;32m~/anaconda3/envs/i2dl/lib/python3.10/site-packages/matplotlib/spines.py:437\u001B[0m, in \u001B[0;36mSpine.linear_spine\u001B[0;34m(cls, axes, spine_type, **kwargs)\u001B[0m\n\u001B[1;32m    435\u001B[0m \u001B[38;5;28;01melse\u001B[39;00m:\n\u001B[1;32m    436\u001B[0m     \u001B[38;5;28;01mraise\u001B[39;00m \u001B[38;5;167;01mValueError\u001B[39;00m(\u001B[38;5;124m'\u001B[39m\u001B[38;5;124munable to make path for spine \u001B[39m\u001B[38;5;124m\"\u001B[39m\u001B[38;5;132;01m%s\u001B[39;00m\u001B[38;5;124m\"\u001B[39m\u001B[38;5;124m'\u001B[39m \u001B[38;5;241m%\u001B[39m spine_type)\n\u001B[0;32m--> 437\u001B[0m result \u001B[38;5;241m=\u001B[39m \u001B[38;5;28;43mcls\u001B[39;49m\u001B[43m(\u001B[49m\u001B[43maxes\u001B[49m\u001B[43m,\u001B[49m\u001B[43m \u001B[49m\u001B[43mspine_type\u001B[49m\u001B[43m,\u001B[49m\u001B[43m \u001B[49m\u001B[43mpath\u001B[49m\u001B[43m,\u001B[49m\u001B[43m \u001B[49m\u001B[38;5;241;43m*\u001B[39;49m\u001B[38;5;241;43m*\u001B[39;49m\u001B[43mkwargs\u001B[49m\u001B[43m)\u001B[49m\n\u001B[1;32m    438\u001B[0m result\u001B[38;5;241m.\u001B[39mset_visible(rcParams[\u001B[38;5;124m'\u001B[39m\u001B[38;5;124maxes.spines.\u001B[39m\u001B[38;5;132;01m{0}\u001B[39;00m\u001B[38;5;124m'\u001B[39m\u001B[38;5;241m.\u001B[39mformat(spine_type)])\n\u001B[1;32m    440\u001B[0m \u001B[38;5;28;01mreturn\u001B[39;00m result\n",
      "File \u001B[0;32m~/anaconda3/envs/i2dl/lib/python3.10/site-packages/matplotlib/spines.py:72\u001B[0m, in \u001B[0;36mSpine.__init__\u001B[0;34m(self, axes, spine_type, path, **kwargs)\u001B[0m\n\u001B[1;32m     68\u001B[0m \u001B[38;5;66;03m# Defer initial position determination. (Not much support for\u001B[39;00m\n\u001B[1;32m     69\u001B[0m \u001B[38;5;66;03m# non-rectangular axes is currently implemented, and this lets\u001B[39;00m\n\u001B[1;32m     70\u001B[0m \u001B[38;5;66;03m# them pass through the spines machinery without errors.)\u001B[39;00m\n\u001B[1;32m     71\u001B[0m \u001B[38;5;28mself\u001B[39m\u001B[38;5;241m.\u001B[39m_position \u001B[38;5;241m=\u001B[39m \u001B[38;5;28;01mNone\u001B[39;00m\n\u001B[0;32m---> 72\u001B[0m _api\u001B[38;5;241m.\u001B[39mcheck_isinstance(\u001B[43mmatplotlib\u001B[49m\u001B[38;5;241;43m.\u001B[39;49m\u001B[43mpath\u001B[49m\u001B[38;5;241m.\u001B[39mPath, path\u001B[38;5;241m=\u001B[39mpath)\n\u001B[1;32m     73\u001B[0m \u001B[38;5;28mself\u001B[39m\u001B[38;5;241m.\u001B[39m_path \u001B[38;5;241m=\u001B[39m path\n\u001B[1;32m     75\u001B[0m \u001B[38;5;66;03m# To support drawing both linear and circular spines, this\u001B[39;00m\n\u001B[1;32m     76\u001B[0m \u001B[38;5;66;03m# class implements Patch behavior three ways. If\u001B[39;00m\n\u001B[1;32m     77\u001B[0m \u001B[38;5;66;03m# self._patch_type == 'line', behave like a mpatches.PathPatch\u001B[39;00m\n\u001B[1;32m     78\u001B[0m \u001B[38;5;66;03m# instance. If self._patch_type == 'circle', behave like a\u001B[39;00m\n\u001B[1;32m     79\u001B[0m \u001B[38;5;66;03m# mpatches.Ellipse instance. If self._patch_type == 'arc', behave like\u001B[39;00m\n\u001B[1;32m     80\u001B[0m \u001B[38;5;66;03m# a mpatches.Arc instance.\u001B[39;00m\n",
      "File \u001B[0;32m~/anaconda3/envs/i2dl/lib/python3.10/site-packages/matplotlib/_api/__init__.py:222\u001B[0m, in \u001B[0;36mcaching_module_getattr.<locals>.__getattr__\u001B[0;34m(name)\u001B[0m\n\u001B[1;32m    220\u001B[0m \u001B[38;5;28;01mif\u001B[39;00m name \u001B[38;5;129;01min\u001B[39;00m props:\n\u001B[1;32m    221\u001B[0m     \u001B[38;5;28;01mreturn\u001B[39;00m props[name]\u001B[38;5;241m.\u001B[39m\u001B[38;5;21m__get__\u001B[39m(instance)\n\u001B[0;32m--> 222\u001B[0m \u001B[38;5;28;01mraise\u001B[39;00m \u001B[38;5;167;01mAttributeError\u001B[39;00m(\n\u001B[1;32m    223\u001B[0m     \u001B[38;5;124mf\u001B[39m\u001B[38;5;124m\"\u001B[39m\u001B[38;5;124mmodule \u001B[39m\u001B[38;5;132;01m{\u001B[39;00m\u001B[38;5;28mcls\u001B[39m\u001B[38;5;241m.\u001B[39m\u001B[38;5;18m__module__\u001B[39m\u001B[38;5;132;01m!r}\u001B[39;00m\u001B[38;5;124m has no attribute \u001B[39m\u001B[38;5;132;01m{\u001B[39;00mname\u001B[38;5;132;01m!r}\u001B[39;00m\u001B[38;5;124m\"\u001B[39m)\n",
      "\u001B[0;31mAttributeError\u001B[0m: module 'matplotlib' has no attribute 'path'"
     ]
    },
    {
     "data": {
      "text/plain": "<Figure size 720x720 with 0 Axes>"
     },
     "metadata": {},
     "output_type": "display_data"
    }
   ],
   "source": [
    "plot_trajectory(validation_set[:num_samples_in_trajectory, 0], t_eval, True, \"./figures/v0_rk_alpha_1,3_original_data.png\")"
   ],
   "metadata": {
    "collapsed": false,
    "pycharm": {
     "name": "#%%\n"
    }
   }
  },
  {
   "cell_type": "markdown",
   "source": [
    "# Validation set"
   ],
   "metadata": {
    "collapsed": false,
    "pycharm": {
     "name": "#%% md\n"
    }
   }
  },
  {
   "cell_type": "code",
   "execution_count": 33,
   "outputs": [
    {
     "name": "stdout",
     "output_type": "stream",
     "text": [
      "Score of the Model before training: 2.922951187667379\n"
     ]
    },
    {
     "ename": "AttributeError",
     "evalue": "module 'matplotlib' has no attribute 'path'",
     "output_type": "error",
     "traceback": [
      "\u001B[0;31m---------------------------------------------------------------------------\u001B[0m",
      "\u001B[0;31mAttributeError\u001B[0m                            Traceback (most recent call last)",
      "Input \u001B[0;32mIn [33]\u001B[0m, in \u001B[0;36m<cell line: 3>\u001B[0;34m()\u001B[0m\n\u001B[1;32m      1\u001B[0m \u001B[38;5;28mprint\u001B[39m(\u001B[38;5;124m\"\u001B[39m\u001B[38;5;124mScore of the Model before training:\u001B[39m\u001B[38;5;124m\"\u001B[39m, evaluate_model(model, validation_set, hparams, device))\n\u001B[1;32m      2\u001B[0m recreation \u001B[38;5;241m=\u001B[39m recreate_trajectory(model, validation_set[\u001B[38;5;241m0\u001B[39m, \u001B[38;5;241m0\u001B[39m, :], t_eval[\u001B[38;5;241m0\u001B[39m], t_eval[\u001B[38;5;241m-\u001B[39m\u001B[38;5;241m1\u001B[39m], delta_t, device)\n\u001B[0;32m----> 3\u001B[0m \u001B[43mplot_trajectory\u001B[49m\u001B[43m(\u001B[49m\u001B[43mrecreation\u001B[49m\u001B[43m,\u001B[49m\u001B[43m \u001B[49m\u001B[43mt_eval\u001B[49m\u001B[43m,\u001B[49m\u001B[43m \u001B[49m\u001B[38;5;28;43;01mTrue\u001B[39;49;00m\u001B[43m,\u001B[49m\u001B[43m \u001B[49m\u001B[38;5;124;43m\"\u001B[39;49m\u001B[38;5;124;43m./figures/v0_rk_alpha_1,3_b_train.png\u001B[39;49m\u001B[38;5;124;43m\"\u001B[39;49m\u001B[43m)\u001B[49m\n",
      "File \u001B[0;32m~/Desktop/mlcms-SS22-Group-A/data_module.py:77\u001B[0m, in \u001B[0;36mplot_trajectory\u001B[0;34m(sol, t_eval, save_fig, figure_save_path)\u001B[0m\n\u001B[1;32m     75\u001B[0m \u001B[38;5;28;01mdef\u001B[39;00m \u001B[38;5;21mplot_trajectory\u001B[39m(sol, t_eval, save_fig\u001B[38;5;241m=\u001B[39m\u001B[38;5;28;01mFalse\u001B[39;00m, figure_save_path\u001B[38;5;241m=\u001B[39m\u001B[38;5;124m\"\u001B[39m\u001B[38;5;124m\"\u001B[39m):\n\u001B[1;32m     76\u001B[0m     fig \u001B[38;5;241m=\u001B[39m plt\u001B[38;5;241m.\u001B[39mfigure(figsize\u001B[38;5;241m=\u001B[39m(\u001B[38;5;241m10\u001B[39m, \u001B[38;5;241m10\u001B[39m))\n\u001B[0;32m---> 77\u001B[0m     ax0 \u001B[38;5;241m=\u001B[39m \u001B[43mplt\u001B[49m\u001B[38;5;241;43m.\u001B[39;49m\u001B[43maxes\u001B[49m\u001B[43m(\u001B[49m\u001B[43mprojection\u001B[49m\u001B[38;5;241;43m=\u001B[39;49m\u001B[38;5;124;43m\"\u001B[39;49m\u001B[38;5;124;43m3d\u001B[39;49m\u001B[38;5;124;43m\"\u001B[39;49m\u001B[43m)\u001B[49m\n\u001B[1;32m     78\u001B[0m     ax0\u001B[38;5;241m.\u001B[39mplot(t_eval, sol[:, \u001B[38;5;241m0\u001B[39m], sol[:, \u001B[38;5;241m1\u001B[39m], color\u001B[38;5;241m=\u001B[39m\u001B[38;5;124m\"\u001B[39m\u001B[38;5;124mr\u001B[39m\u001B[38;5;124m\"\u001B[39m)\n\u001B[1;32m     80\u001B[0m     ax0\u001B[38;5;241m.\u001B[39mset_xlabel(\u001B[38;5;124mr\u001B[39m\u001B[38;5;124m\"\u001B[39m\u001B[38;5;124m$t$\u001B[39m\u001B[38;5;124m\"\u001B[39m, fontsize\u001B[38;5;241m=\u001B[39m\u001B[38;5;241m20\u001B[39m)\n",
      "File \u001B[0;32m~/anaconda3/envs/i2dl/lib/python3.10/site-packages/matplotlib/pyplot.py:1065\u001B[0m, in \u001B[0;36maxes\u001B[0;34m(arg, **kwargs)\u001B[0m\n\u001B[1;32m   1063\u001B[0m \u001B[38;5;28;01mif\u001B[39;00m arg \u001B[38;5;129;01mis\u001B[39;00m \u001B[38;5;28;01mNone\u001B[39;00m:\n\u001B[1;32m   1064\u001B[0m     \u001B[38;5;28;01mif\u001B[39;00m pos \u001B[38;5;129;01mis\u001B[39;00m \u001B[38;5;28;01mNone\u001B[39;00m:\n\u001B[0;32m-> 1065\u001B[0m         \u001B[38;5;28;01mreturn\u001B[39;00m \u001B[43mfig\u001B[49m\u001B[38;5;241;43m.\u001B[39;49m\u001B[43madd_subplot\u001B[49m\u001B[43m(\u001B[49m\u001B[38;5;241;43m*\u001B[39;49m\u001B[38;5;241;43m*\u001B[39;49m\u001B[43mkwargs\u001B[49m\u001B[43m)\u001B[49m\n\u001B[1;32m   1066\u001B[0m     \u001B[38;5;28;01melse\u001B[39;00m:\n\u001B[1;32m   1067\u001B[0m         \u001B[38;5;28;01mreturn\u001B[39;00m fig\u001B[38;5;241m.\u001B[39madd_axes(pos, \u001B[38;5;241m*\u001B[39m\u001B[38;5;241m*\u001B[39mkwargs)\n",
      "File \u001B[0;32m~/anaconda3/envs/i2dl/lib/python3.10/site-packages/matplotlib/figure.py:772\u001B[0m, in \u001B[0;36mFigureBase.add_subplot\u001B[0;34m(self, *args, **kwargs)\u001B[0m\n\u001B[1;32m    769\u001B[0m         args \u001B[38;5;241m=\u001B[39m \u001B[38;5;28mtuple\u001B[39m(\u001B[38;5;28mmap\u001B[39m(\u001B[38;5;28mint\u001B[39m, \u001B[38;5;28mstr\u001B[39m(args[\u001B[38;5;241m0\u001B[39m])))\n\u001B[1;32m    770\u001B[0m     projection_class, pkw \u001B[38;5;241m=\u001B[39m \u001B[38;5;28mself\u001B[39m\u001B[38;5;241m.\u001B[39m_process_projection_requirements(\n\u001B[1;32m    771\u001B[0m         \u001B[38;5;241m*\u001B[39margs, \u001B[38;5;241m*\u001B[39m\u001B[38;5;241m*\u001B[39mkwargs)\n\u001B[0;32m--> 772\u001B[0m     ax \u001B[38;5;241m=\u001B[39m \u001B[43msubplot_class_factory\u001B[49m\u001B[43m(\u001B[49m\u001B[43mprojection_class\u001B[49m\u001B[43m)\u001B[49m\u001B[43m(\u001B[49m\u001B[38;5;28;43mself\u001B[39;49m\u001B[43m,\u001B[49m\u001B[43m \u001B[49m\u001B[38;5;241;43m*\u001B[39;49m\u001B[43margs\u001B[49m\u001B[43m,\u001B[49m\u001B[43m \u001B[49m\u001B[38;5;241;43m*\u001B[39;49m\u001B[38;5;241;43m*\u001B[39;49m\u001B[43mpkw\u001B[49m\u001B[43m)\u001B[49m\n\u001B[1;32m    773\u001B[0m     key \u001B[38;5;241m=\u001B[39m (projection_class, pkw)\n\u001B[1;32m    774\u001B[0m \u001B[38;5;28;01mreturn\u001B[39;00m \u001B[38;5;28mself\u001B[39m\u001B[38;5;241m.\u001B[39m_add_axes_internal(ax, key)\n",
      "File \u001B[0;32m~/anaconda3/envs/i2dl/lib/python3.10/site-packages/matplotlib/axes/_subplots.py:34\u001B[0m, in \u001B[0;36mSubplotBase.__init__\u001B[0;34m(self, fig, *args, **kwargs)\u001B[0m\n\u001B[1;32m     15\u001B[0m \u001B[38;5;124;03m\"\"\"\u001B[39;00m\n\u001B[1;32m     16\u001B[0m \u001B[38;5;124;03mParameters\u001B[39;00m\n\u001B[1;32m     17\u001B[0m \u001B[38;5;124;03m----------\u001B[39;00m\n\u001B[0;32m   (...)\u001B[0m\n\u001B[1;32m     31\u001B[0m \u001B[38;5;124;03m    Keyword arguments are passed to the Axes (sub)class constructor.\u001B[39;00m\n\u001B[1;32m     32\u001B[0m \u001B[38;5;124;03m\"\"\"\u001B[39;00m\n\u001B[1;32m     33\u001B[0m \u001B[38;5;66;03m# _axes_class is set in the subplot_class_factory\u001B[39;00m\n\u001B[0;32m---> 34\u001B[0m \u001B[38;5;28;43mself\u001B[39;49m\u001B[38;5;241;43m.\u001B[39;49m\u001B[43m_axes_class\u001B[49m\u001B[38;5;241;43m.\u001B[39;49m\u001B[38;5;21;43m__init__\u001B[39;49m\u001B[43m(\u001B[49m\u001B[38;5;28;43mself\u001B[39;49m\u001B[43m,\u001B[49m\u001B[43m \u001B[49m\u001B[43mfig\u001B[49m\u001B[43m,\u001B[49m\u001B[43m \u001B[49m\u001B[43m[\u001B[49m\u001B[38;5;241;43m0\u001B[39;49m\u001B[43m,\u001B[49m\u001B[43m \u001B[49m\u001B[38;5;241;43m0\u001B[39;49m\u001B[43m,\u001B[49m\u001B[43m \u001B[49m\u001B[38;5;241;43m1\u001B[39;49m\u001B[43m,\u001B[49m\u001B[43m \u001B[49m\u001B[38;5;241;43m1\u001B[39;49m\u001B[43m]\u001B[49m\u001B[43m,\u001B[49m\u001B[43m \u001B[49m\u001B[38;5;241;43m*\u001B[39;49m\u001B[38;5;241;43m*\u001B[39;49m\u001B[43mkwargs\u001B[49m\u001B[43m)\u001B[49m\n\u001B[1;32m     35\u001B[0m \u001B[38;5;66;03m# This will also update the axes position.\u001B[39;00m\n\u001B[1;32m     36\u001B[0m \u001B[38;5;28mself\u001B[39m\u001B[38;5;241m.\u001B[39mset_subplotspec(SubplotSpec\u001B[38;5;241m.\u001B[39m_from_subplot_args(fig, args))\n",
      "File \u001B[0;32m~/anaconda3/envs/i2dl/lib/python3.10/site-packages/mpl_toolkits/mplot3d/axes3d.py:125\u001B[0m, in \u001B[0;36mAxes3D.__init__\u001B[0;34m(self, fig, rect, azim, elev, sharez, proj_type, box_aspect, computed_zorder, *args, **kwargs)\u001B[0m\n\u001B[1;32m    121\u001B[0m     \u001B[38;5;28mself\u001B[39m\u001B[38;5;241m.\u001B[39m_adjustable \u001B[38;5;241m=\u001B[39m \u001B[38;5;124m'\u001B[39m\u001B[38;5;124mdatalim\u001B[39m\u001B[38;5;124m'\u001B[39m\n\u001B[1;32m    123\u001B[0m auto_add_to_figure \u001B[38;5;241m=\u001B[39m kwargs\u001B[38;5;241m.\u001B[39mpop(\u001B[38;5;124m'\u001B[39m\u001B[38;5;124mauto_add_to_figure\u001B[39m\u001B[38;5;124m'\u001B[39m, \u001B[38;5;28;01mTrue\u001B[39;00m)\n\u001B[0;32m--> 125\u001B[0m \u001B[38;5;28;43msuper\u001B[39;49m\u001B[43m(\u001B[49m\u001B[43m)\u001B[49m\u001B[38;5;241;43m.\u001B[39;49m\u001B[38;5;21;43m__init__\u001B[39;49m\u001B[43m(\u001B[49m\n\u001B[1;32m    126\u001B[0m \u001B[43m    \u001B[49m\u001B[43mfig\u001B[49m\u001B[43m,\u001B[49m\u001B[43m \u001B[49m\u001B[43mrect\u001B[49m\u001B[43m,\u001B[49m\u001B[43m \u001B[49m\u001B[43mframeon\u001B[49m\u001B[38;5;241;43m=\u001B[39;49m\u001B[38;5;28;43;01mTrue\u001B[39;49;00m\u001B[43m,\u001B[49m\u001B[43m \u001B[49m\u001B[43mbox_aspect\u001B[49m\u001B[38;5;241;43m=\u001B[39;49m\u001B[43mbox_aspect\u001B[49m\u001B[43m,\u001B[49m\u001B[43m \u001B[49m\u001B[38;5;241;43m*\u001B[39;49m\u001B[43margs\u001B[49m\u001B[43m,\u001B[49m\u001B[43m \u001B[49m\u001B[38;5;241;43m*\u001B[39;49m\u001B[38;5;241;43m*\u001B[39;49m\u001B[43mkwargs\u001B[49m\n\u001B[1;32m    127\u001B[0m \u001B[43m\u001B[49m\u001B[43m)\u001B[49m\n\u001B[1;32m    128\u001B[0m \u001B[38;5;66;03m# Disable drawing of axes by base class\u001B[39;00m\n\u001B[1;32m    129\u001B[0m \u001B[38;5;28msuper\u001B[39m()\u001B[38;5;241m.\u001B[39mset_axis_off()\n",
      "File \u001B[0;32m~/anaconda3/envs/i2dl/lib/python3.10/site-packages/matplotlib/_api/deprecation.py:456\u001B[0m, in \u001B[0;36mmake_keyword_only.<locals>.wrapper\u001B[0;34m(*args, **kwargs)\u001B[0m\n\u001B[1;32m    450\u001B[0m \u001B[38;5;28;01mif\u001B[39;00m \u001B[38;5;28mlen\u001B[39m(args) \u001B[38;5;241m>\u001B[39m name_idx:\n\u001B[1;32m    451\u001B[0m     warn_deprecated(\n\u001B[1;32m    452\u001B[0m         since, message\u001B[38;5;241m=\u001B[39m\u001B[38;5;124m\"\u001B[39m\u001B[38;5;124mPassing the \u001B[39m\u001B[38;5;132;01m%(name)s\u001B[39;00m\u001B[38;5;124m \u001B[39m\u001B[38;5;132;01m%(obj_type)s\u001B[39;00m\u001B[38;5;124m \u001B[39m\u001B[38;5;124m\"\u001B[39m\n\u001B[1;32m    453\u001B[0m         \u001B[38;5;124m\"\u001B[39m\u001B[38;5;124mpositionally is deprecated since Matplotlib \u001B[39m\u001B[38;5;132;01m%(since)s\u001B[39;00m\u001B[38;5;124m; the \u001B[39m\u001B[38;5;124m\"\u001B[39m\n\u001B[1;32m    454\u001B[0m         \u001B[38;5;124m\"\u001B[39m\u001B[38;5;124mparameter will become keyword-only \u001B[39m\u001B[38;5;132;01m%(removal)s\u001B[39;00m\u001B[38;5;124m.\u001B[39m\u001B[38;5;124m\"\u001B[39m,\n\u001B[1;32m    455\u001B[0m         name\u001B[38;5;241m=\u001B[39mname, obj_type\u001B[38;5;241m=\u001B[39m\u001B[38;5;124mf\u001B[39m\u001B[38;5;124m\"\u001B[39m\u001B[38;5;124mparameter of \u001B[39m\u001B[38;5;132;01m{\u001B[39;00mfunc\u001B[38;5;241m.\u001B[39m\u001B[38;5;18m__name__\u001B[39m\u001B[38;5;132;01m}\u001B[39;00m\u001B[38;5;124m()\u001B[39m\u001B[38;5;124m\"\u001B[39m)\n\u001B[0;32m--> 456\u001B[0m \u001B[38;5;28;01mreturn\u001B[39;00m \u001B[43mfunc\u001B[49m\u001B[43m(\u001B[49m\u001B[38;5;241;43m*\u001B[39;49m\u001B[43margs\u001B[49m\u001B[43m,\u001B[49m\u001B[43m \u001B[49m\u001B[38;5;241;43m*\u001B[39;49m\u001B[38;5;241;43m*\u001B[39;49m\u001B[43mkwargs\u001B[49m\u001B[43m)\u001B[49m\n",
      "File \u001B[0;32m~/anaconda3/envs/i2dl/lib/python3.10/site-packages/matplotlib/axes/_base.py:621\u001B[0m, in \u001B[0;36m_AxesBase.__init__\u001B[0;34m(self, fig, rect, facecolor, frameon, sharex, sharey, label, xscale, yscale, box_aspect, **kwargs)\u001B[0m\n\u001B[1;32m    618\u001B[0m \u001B[38;5;66;03m# placeholder for any colorbars added that use this Axes.\u001B[39;00m\n\u001B[1;32m    619\u001B[0m \u001B[38;5;66;03m# (see colorbar.py):\u001B[39;00m\n\u001B[1;32m    620\u001B[0m \u001B[38;5;28mself\u001B[39m\u001B[38;5;241m.\u001B[39m_colorbars \u001B[38;5;241m=\u001B[39m []\n\u001B[0;32m--> 621\u001B[0m \u001B[38;5;28mself\u001B[39m\u001B[38;5;241m.\u001B[39mspines \u001B[38;5;241m=\u001B[39m mspines\u001B[38;5;241m.\u001B[39mSpines\u001B[38;5;241m.\u001B[39mfrom_dict(\u001B[38;5;28;43mself\u001B[39;49m\u001B[38;5;241;43m.\u001B[39;49m\u001B[43m_gen_axes_spines\u001B[49m\u001B[43m(\u001B[49m\u001B[43m)\u001B[49m)\n\u001B[1;32m    623\u001B[0m \u001B[38;5;66;03m# this call may differ for non-sep axes, e.g., polar\u001B[39;00m\n\u001B[1;32m    624\u001B[0m \u001B[38;5;28mself\u001B[39m\u001B[38;5;241m.\u001B[39m_init_axis()\n",
      "File \u001B[0;32m~/anaconda3/envs/i2dl/lib/python3.10/site-packages/matplotlib/axes/_base.py:1141\u001B[0m, in \u001B[0;36m_AxesBase._gen_axes_spines\u001B[0;34m(self, locations, offset, units)\u001B[0m\n\u001B[1;32m   1126\u001B[0m \u001B[38;5;28;01mdef\u001B[39;00m \u001B[38;5;21m_gen_axes_spines\u001B[39m(\u001B[38;5;28mself\u001B[39m, locations\u001B[38;5;241m=\u001B[39m\u001B[38;5;28;01mNone\u001B[39;00m, offset\u001B[38;5;241m=\u001B[39m\u001B[38;5;241m0.0\u001B[39m, units\u001B[38;5;241m=\u001B[39m\u001B[38;5;124m'\u001B[39m\u001B[38;5;124minches\u001B[39m\u001B[38;5;124m'\u001B[39m):\n\u001B[1;32m   1127\u001B[0m     \u001B[38;5;124;03m\"\"\"\u001B[39;00m\n\u001B[1;32m   1128\u001B[0m \u001B[38;5;124;03m    Returns\u001B[39;00m\n\u001B[1;32m   1129\u001B[0m \u001B[38;5;124;03m    -------\u001B[39;00m\n\u001B[0;32m   (...)\u001B[0m\n\u001B[1;32m   1139\u001B[0m \u001B[38;5;124;03m    Intended to be overridden by new projection types.\u001B[39;00m\n\u001B[1;32m   1140\u001B[0m \u001B[38;5;124;03m    \"\"\"\u001B[39;00m\n\u001B[0;32m-> 1141\u001B[0m     \u001B[38;5;28;01mreturn\u001B[39;00m \u001B[43mOrderedDict\u001B[49m\u001B[43m(\u001B[49m\u001B[43m(\u001B[49m\u001B[43mside\u001B[49m\u001B[43m,\u001B[49m\u001B[43m \u001B[49m\u001B[43mmspines\u001B[49m\u001B[38;5;241;43m.\u001B[39;49m\u001B[43mSpine\u001B[49m\u001B[38;5;241;43m.\u001B[39;49m\u001B[43mlinear_spine\u001B[49m\u001B[43m(\u001B[49m\u001B[38;5;28;43mself\u001B[39;49m\u001B[43m,\u001B[49m\u001B[43m \u001B[49m\u001B[43mside\u001B[49m\u001B[43m)\u001B[49m\u001B[43m)\u001B[49m\n\u001B[1;32m   1142\u001B[0m \u001B[43m                       \u001B[49m\u001B[38;5;28;43;01mfor\u001B[39;49;00m\u001B[43m \u001B[49m\u001B[43mside\u001B[49m\u001B[43m \u001B[49m\u001B[38;5;129;43;01min\u001B[39;49;00m\u001B[43m \u001B[49m\u001B[43m[\u001B[49m\u001B[38;5;124;43m'\u001B[39;49m\u001B[38;5;124;43mleft\u001B[39;49m\u001B[38;5;124;43m'\u001B[39;49m\u001B[43m,\u001B[49m\u001B[43m \u001B[49m\u001B[38;5;124;43m'\u001B[39;49m\u001B[38;5;124;43mright\u001B[39;49m\u001B[38;5;124;43m'\u001B[39;49m\u001B[43m,\u001B[49m\u001B[43m \u001B[49m\u001B[38;5;124;43m'\u001B[39;49m\u001B[38;5;124;43mbottom\u001B[39;49m\u001B[38;5;124;43m'\u001B[39;49m\u001B[43m,\u001B[49m\u001B[43m \u001B[49m\u001B[38;5;124;43m'\u001B[39;49m\u001B[38;5;124;43mtop\u001B[39;49m\u001B[38;5;124;43m'\u001B[39;49m\u001B[43m]\u001B[49m\u001B[43m)\u001B[49m\n",
      "File \u001B[0;32m~/anaconda3/envs/i2dl/lib/python3.10/site-packages/matplotlib/axes/_base.py:1141\u001B[0m, in \u001B[0;36m<genexpr>\u001B[0;34m(.0)\u001B[0m\n\u001B[1;32m   1126\u001B[0m \u001B[38;5;28;01mdef\u001B[39;00m \u001B[38;5;21m_gen_axes_spines\u001B[39m(\u001B[38;5;28mself\u001B[39m, locations\u001B[38;5;241m=\u001B[39m\u001B[38;5;28;01mNone\u001B[39;00m, offset\u001B[38;5;241m=\u001B[39m\u001B[38;5;241m0.0\u001B[39m, units\u001B[38;5;241m=\u001B[39m\u001B[38;5;124m'\u001B[39m\u001B[38;5;124minches\u001B[39m\u001B[38;5;124m'\u001B[39m):\n\u001B[1;32m   1127\u001B[0m     \u001B[38;5;124;03m\"\"\"\u001B[39;00m\n\u001B[1;32m   1128\u001B[0m \u001B[38;5;124;03m    Returns\u001B[39;00m\n\u001B[1;32m   1129\u001B[0m \u001B[38;5;124;03m    -------\u001B[39;00m\n\u001B[0;32m   (...)\u001B[0m\n\u001B[1;32m   1139\u001B[0m \u001B[38;5;124;03m    Intended to be overridden by new projection types.\u001B[39;00m\n\u001B[1;32m   1140\u001B[0m \u001B[38;5;124;03m    \"\"\"\u001B[39;00m\n\u001B[0;32m-> 1141\u001B[0m     \u001B[38;5;28;01mreturn\u001B[39;00m OrderedDict((side, \u001B[43mmspines\u001B[49m\u001B[38;5;241;43m.\u001B[39;49m\u001B[43mSpine\u001B[49m\u001B[38;5;241;43m.\u001B[39;49m\u001B[43mlinear_spine\u001B[49m\u001B[43m(\u001B[49m\u001B[38;5;28;43mself\u001B[39;49m\u001B[43m,\u001B[49m\u001B[43m \u001B[49m\u001B[43mside\u001B[49m\u001B[43m)\u001B[49m)\n\u001B[1;32m   1142\u001B[0m                        \u001B[38;5;28;01mfor\u001B[39;00m side \u001B[38;5;129;01min\u001B[39;00m [\u001B[38;5;124m'\u001B[39m\u001B[38;5;124mleft\u001B[39m\u001B[38;5;124m'\u001B[39m, \u001B[38;5;124m'\u001B[39m\u001B[38;5;124mright\u001B[39m\u001B[38;5;124m'\u001B[39m, \u001B[38;5;124m'\u001B[39m\u001B[38;5;124mbottom\u001B[39m\u001B[38;5;124m'\u001B[39m, \u001B[38;5;124m'\u001B[39m\u001B[38;5;124mtop\u001B[39m\u001B[38;5;124m'\u001B[39m])\n",
      "File \u001B[0;32m~/anaconda3/envs/i2dl/lib/python3.10/site-packages/matplotlib/spines.py:437\u001B[0m, in \u001B[0;36mSpine.linear_spine\u001B[0;34m(cls, axes, spine_type, **kwargs)\u001B[0m\n\u001B[1;32m    435\u001B[0m \u001B[38;5;28;01melse\u001B[39;00m:\n\u001B[1;32m    436\u001B[0m     \u001B[38;5;28;01mraise\u001B[39;00m \u001B[38;5;167;01mValueError\u001B[39;00m(\u001B[38;5;124m'\u001B[39m\u001B[38;5;124munable to make path for spine \u001B[39m\u001B[38;5;124m\"\u001B[39m\u001B[38;5;132;01m%s\u001B[39;00m\u001B[38;5;124m\"\u001B[39m\u001B[38;5;124m'\u001B[39m \u001B[38;5;241m%\u001B[39m spine_type)\n\u001B[0;32m--> 437\u001B[0m result \u001B[38;5;241m=\u001B[39m \u001B[38;5;28;43mcls\u001B[39;49m\u001B[43m(\u001B[49m\u001B[43maxes\u001B[49m\u001B[43m,\u001B[49m\u001B[43m \u001B[49m\u001B[43mspine_type\u001B[49m\u001B[43m,\u001B[49m\u001B[43m \u001B[49m\u001B[43mpath\u001B[49m\u001B[43m,\u001B[49m\u001B[43m \u001B[49m\u001B[38;5;241;43m*\u001B[39;49m\u001B[38;5;241;43m*\u001B[39;49m\u001B[43mkwargs\u001B[49m\u001B[43m)\u001B[49m\n\u001B[1;32m    438\u001B[0m result\u001B[38;5;241m.\u001B[39mset_visible(rcParams[\u001B[38;5;124m'\u001B[39m\u001B[38;5;124maxes.spines.\u001B[39m\u001B[38;5;132;01m{0}\u001B[39;00m\u001B[38;5;124m'\u001B[39m\u001B[38;5;241m.\u001B[39mformat(spine_type)])\n\u001B[1;32m    440\u001B[0m \u001B[38;5;28;01mreturn\u001B[39;00m result\n",
      "File \u001B[0;32m~/anaconda3/envs/i2dl/lib/python3.10/site-packages/matplotlib/spines.py:72\u001B[0m, in \u001B[0;36mSpine.__init__\u001B[0;34m(self, axes, spine_type, path, **kwargs)\u001B[0m\n\u001B[1;32m     68\u001B[0m \u001B[38;5;66;03m# Defer initial position determination. (Not much support for\u001B[39;00m\n\u001B[1;32m     69\u001B[0m \u001B[38;5;66;03m# non-rectangular axes is currently implemented, and this lets\u001B[39;00m\n\u001B[1;32m     70\u001B[0m \u001B[38;5;66;03m# them pass through the spines machinery without errors.)\u001B[39;00m\n\u001B[1;32m     71\u001B[0m \u001B[38;5;28mself\u001B[39m\u001B[38;5;241m.\u001B[39m_position \u001B[38;5;241m=\u001B[39m \u001B[38;5;28;01mNone\u001B[39;00m\n\u001B[0;32m---> 72\u001B[0m _api\u001B[38;5;241m.\u001B[39mcheck_isinstance(\u001B[43mmatplotlib\u001B[49m\u001B[38;5;241;43m.\u001B[39;49m\u001B[43mpath\u001B[49m\u001B[38;5;241m.\u001B[39mPath, path\u001B[38;5;241m=\u001B[39mpath)\n\u001B[1;32m     73\u001B[0m \u001B[38;5;28mself\u001B[39m\u001B[38;5;241m.\u001B[39m_path \u001B[38;5;241m=\u001B[39m path\n\u001B[1;32m     75\u001B[0m \u001B[38;5;66;03m# To support drawing both linear and circular spines, this\u001B[39;00m\n\u001B[1;32m     76\u001B[0m \u001B[38;5;66;03m# class implements Patch behavior three ways. If\u001B[39;00m\n\u001B[1;32m     77\u001B[0m \u001B[38;5;66;03m# self._patch_type == 'line', behave like a mpatches.PathPatch\u001B[39;00m\n\u001B[1;32m     78\u001B[0m \u001B[38;5;66;03m# instance. If self._patch_type == 'circle', behave like a\u001B[39;00m\n\u001B[1;32m     79\u001B[0m \u001B[38;5;66;03m# mpatches.Ellipse instance. If self._patch_type == 'arc', behave like\u001B[39;00m\n\u001B[1;32m     80\u001B[0m \u001B[38;5;66;03m# a mpatches.Arc instance.\u001B[39;00m\n",
      "File \u001B[0;32m~/anaconda3/envs/i2dl/lib/python3.10/site-packages/matplotlib/_api/__init__.py:222\u001B[0m, in \u001B[0;36mcaching_module_getattr.<locals>.__getattr__\u001B[0;34m(name)\u001B[0m\n\u001B[1;32m    220\u001B[0m \u001B[38;5;28;01mif\u001B[39;00m name \u001B[38;5;129;01min\u001B[39;00m props:\n\u001B[1;32m    221\u001B[0m     \u001B[38;5;28;01mreturn\u001B[39;00m props[name]\u001B[38;5;241m.\u001B[39m\u001B[38;5;21m__get__\u001B[39m(instance)\n\u001B[0;32m--> 222\u001B[0m \u001B[38;5;28;01mraise\u001B[39;00m \u001B[38;5;167;01mAttributeError\u001B[39;00m(\n\u001B[1;32m    223\u001B[0m     \u001B[38;5;124mf\u001B[39m\u001B[38;5;124m\"\u001B[39m\u001B[38;5;124mmodule \u001B[39m\u001B[38;5;132;01m{\u001B[39;00m\u001B[38;5;28mcls\u001B[39m\u001B[38;5;241m.\u001B[39m\u001B[38;5;18m__module__\u001B[39m\u001B[38;5;132;01m!r}\u001B[39;00m\u001B[38;5;124m has no attribute \u001B[39m\u001B[38;5;132;01m{\u001B[39;00mname\u001B[38;5;132;01m!r}\u001B[39;00m\u001B[38;5;124m\"\u001B[39m)\n",
      "\u001B[0;31mAttributeError\u001B[0m: module 'matplotlib' has no attribute 'path'"
     ]
    },
    {
     "data": {
      "text/plain": "<Figure size 720x720 with 0 Axes>"
     },
     "metadata": {},
     "output_type": "display_data"
    }
   ],
   "source": [
    "print(\"Score of the Model before training:\", evaluate_model(model, validation_set, hparams, device))\n",
    "recreation = recreate_trajectory(model, validation_set[0, 0, :], t_eval[0], t_eval[-1], delta_t, device)\n",
    "plot_trajectory(recreation, t_eval, True, \"./figures/v0_rk_alpha_1,3_b_train.png\")"
   ],
   "metadata": {
    "collapsed": false,
    "pycharm": {
     "name": "#%%\n"
    }
   }
  },
  {
   "cell_type": "code",
   "execution_count": null,
   "outputs": [],
   "source": [
    "train_dataloader = DataLoader(training_set,\n",
    "                              shuffle=False,\n",
    "                              batch_size=hparams[\"batch_size\"],\n",
    "                              num_workers=8)\n",
    "validation_dataloader = DataLoader(validation_set,\n",
    "                                    shuffle=False,\n",
    "                                    batch_size=hparams[\"batch_size\"],\n",
    "                                    num_workers=8)"
   ],
   "metadata": {
    "collapsed": false,
    "pycharm": {
     "name": "#%%\n"
    }
   }
  },
  {
   "cell_type": "code",
   "execution_count": null,
   "outputs": [],
   "source": [
    "trainer = pl.Trainer(\n",
    "    max_epochs=100,\n",
    "    log_every_n_steps=5,\n",
    "    gpus=1 if torch.cuda.is_available() else None\n",
    ")\n",
    "\n",
    "trainer.fit(model, train_dataloader)"
   ],
   "metadata": {
    "collapsed": false,
    "pycharm": {
     "name": "#%%\n"
    }
   }
  },
  {
   "cell_type": "code",
   "execution_count": null,
   "outputs": [],
   "source": [
    "model.hparams[\"delta_t\"] = 0.05\n",
    "t_eval_tmp = np.arange(0, 5, 0.05).round(2)\n",
    "t_eval_tmp = np.delete(t_eval_tmp, -1, 0)\n",
    "print(\"Score of the Model after training:\", evaluate_model(model, validation_set, hparams, device))\n",
    "recreation = recreate_trajectory(model, validation_set[0, 0, :], t_eval_tmp[0], t_eval_tmp[-1], model.hparams[\"delta_t\"], device)\n",
    "plot_trajectory(recreation, t_eval_tmp, True, \"./figures/v0_rk_alpha_1,3_a_train.png\")"
   ],
   "metadata": {
    "collapsed": false,
    "pycharm": {
     "name": "#%%\n"
    }
   }
  },
  {
   "cell_type": "code",
   "execution_count": null,
   "outputs": [],
   "source": [
    "compute_and_plot_phase_portrait(model, 0.05, True, \"./figures/v0_rk_alpha_1,3_phase_portrait.png\")"
   ],
   "metadata": {
    "collapsed": false,
    "pycharm": {
     "name": "#%%\n"
    }
   }
  },
  {
   "cell_type": "code",
   "execution_count": null,
   "outputs": [],
   "source": [],
   "metadata": {
    "collapsed": false,
    "pycharm": {
     "name": "#%%\n"
    }
   }
  }
 ],
 "metadata": {
  "kernelspec": {
   "display_name": "Python 3 (ipykernel)",
   "language": "python",
   "name": "python3"
  },
  "language_info": {
   "codemirror_mode": {
    "name": "ipython",
    "version": 3
   },
   "file_extension": ".py",
   "mimetype": "text/x-python",
   "name": "python",
   "nbconvert_exporter": "python",
   "pygments_lexer": "ipython3",
   "version": "3.9.7"
  }
 },
 "nbformat": 4,
 "nbformat_minor": 4
}