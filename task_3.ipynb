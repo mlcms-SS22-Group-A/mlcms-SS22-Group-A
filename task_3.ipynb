{
 "cells": [
  {
   "cell_type": "markdown",
   "source": [
    "# Imports"
   ],
   "metadata": {
    "collapsed": false,
    "pycharm": {
     "name": "#%% md\n"
    }
   }
  },
  {
   "cell_type": "code",
   "execution_count": 2,
   "metadata": {
    "collapsed": true,
    "pycharm": {
     "name": "#%%\n"
    }
   },
   "outputs": [],
   "source": [
    "from task_1 import *\n",
    "from task_2 import *\n",
    "\n",
    "%reload_ext autoreload\n",
    "%autoreload 2"
   ]
  },
  {
   "cell_type": "markdown",
   "source": [
    "# Part One"
   ],
   "metadata": {
    "collapsed": false,
    "pycharm": {
     "name": "#%% md\n"
    }
   }
  },
  {
   "cell_type": "code",
   "execution_count": 3,
   "outputs": [],
   "source": [
    "nonlinear_vectorfield_x0 = read_data(\"./data/nonlinear_vectorfield_data_x0.txt\")\n",
    "nonlinear_vectorfield_x1 = read_data(\"./data/nonlinear_vectorfield_data_x1.txt\")"
   ],
   "metadata": {
    "collapsed": false,
    "pycharm": {
     "name": "#%%\n"
    }
   }
  },
  {
   "cell_type": "code",
   "execution_count": 4,
   "outputs": [
    {
     "name": "stdout",
     "output_type": "stream",
     "text": [
      "The chosen timestep is: 0.1\n",
      "MSE between all the approximated and known end points for our chosen timestep is: 0.03728\n"
     ]
    }
   ],
   "source": [
    "# Create a list of time step variable and find the one that causes the least mse-error in the x1 approximation\n",
    "# Approximate the linear vectorfield by a 2x2 matrix A\n",
    "dt_list = np.arange(0.05, 0.5, 0.05)\n",
    "err_list, dt, min_index, A_t = search_for_optimal_dt(dt_list, nonlinear_vectorfield_x0, nonlinear_vectorfield_x1)\n",
    "print(\"The chosen timestep is:\", dt)\n",
    "print(\"MSE between all the approximated and known end points for our chosen timestep is:\", round(err_list[min_index], 5))"
   ],
   "metadata": {
    "collapsed": false,
    "pycharm": {
     "name": "#%%\n"
    }
   }
  },
  {
   "cell_type": "markdown",
   "source": [
    "# Part Two"
   ],
   "metadata": {
    "collapsed": false,
    "pycharm": {
     "name": "#%% md\n"
    }
   }
  },
  {
   "cell_type": "code",
   "execution_count": 7,
   "outputs": [
    {
     "name": "stdout",
     "output_type": "stream",
     "text": [
      "MSE between all the approximated and known end points for our chosen timestep is: 0.04225\n"
     ]
    }
   ],
   "source": [
    "x_l_list = np.linspace((np.min(nonlinear_vectorfield_x0[:, 0]), np.min(nonlinear_vectorfield_x0[:, 1])),\n",
    "                       (np.max(nonlinear_vectorfield_x0[:, 0]), np.max(nonlinear_vectorfield_x0[:, 1])),\n",
    "                        500)\n",
    "distance = np.linalg.norm(nonlinear_vectorfield_x0[:, None] - x_l_list[None], axis=-1)\n",
    "eps = 0.05 * np.max(distance)\n",
    "v_k = (nonlinear_vectorfield_x1 - nonlinear_vectorfield_x0) / dt\n",
    "phi_l_list = get_radial_basis_function(x_l_list, nonlinear_vectorfield_x0, eps)\n",
    "coefficients = np.linalg.lstsq(phi_l_list, v_k, rcond=1e-2)[0]\n",
    "\n",
    "f_hat = np.zeros(nonlinear_vectorfield_x0.shape)\n",
    "for i in range(nonlinear_vectorfield_x0.shape[0]):\n",
    "    f_hat[i, :] = solve_ivp(lambda t, x: phi_l_list[i, :] @ coefficients, t_span=(0.0, 0.1), t_eval=[0.1], y0=nonlinear_vectorfield_x0[i, :]).y.T\n",
    "\n",
    "print(\"MSE between all the approximated and known end points for our chosen timestep is:\", round(mse(nonlinear_vectorfield_x1, f_hat), 5))"
   ],
   "metadata": {
    "collapsed": false,
    "pycharm": {
     "name": "#%%\n"
    }
   }
  },
  {
   "cell_type": "code",
   "execution_count": null,
   "outputs": [],
   "source": [],
   "metadata": {
    "collapsed": false,
    "pycharm": {
     "name": "#%%\n"
    }
   }
  }
 ],
 "metadata": {
  "kernelspec": {
   "display_name": "Python 3",
   "language": "python",
   "name": "python3"
  },
  "language_info": {
   "codemirror_mode": {
    "name": "ipython",
    "version": 2
   },
   "file_extension": ".py",
   "mimetype": "text/x-python",
   "name": "python",
   "nbconvert_exporter": "python",
   "pygments_lexer": "ipython2",
   "version": "2.7.6"
  }
 },
 "nbformat": 4,
 "nbformat_minor": 0
}