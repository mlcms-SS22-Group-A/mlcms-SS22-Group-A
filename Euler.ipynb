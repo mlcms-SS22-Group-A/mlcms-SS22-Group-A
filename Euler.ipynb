{
 "cells": [
  {
   "cell_type": "markdown",
   "metadata": {
    "pycharm": {
     "name": "#%% md\n"
    }
   },
   "source": [
    "# Import everyting here"
   ]
  },
  {
   "cell_type": "code",
   "execution_count": null,
   "outputs": [],
   "source": [
    "import torch.utils.data\n",
    "import matplotlib.pyplot as plt\n",
    "import torch\n",
    "import scipy.integrate\n",
    "import numpy as np\n",
    "from pytorch_lightning.loggers import TensorBoardLogger\n",
    "\n",
    "\n",
    "from Euler import *\n",
    "from task_1 import *\n",
    "\n",
    "%reload_ext autoreload\n",
    "%autoreload 2"
   ],
   "metadata": {
    "collapsed": false,
    "pycharm": {
     "name": "#%%\n"
    }
   }
  },
  {
   "cell_type": "code",
   "execution_count": null,
   "outputs": [],
   "source": [
    "device = torch.device(\"cuda\" if torch.cuda.is_available() else \"cpu\")\n",
    "print(device)"
   ],
   "metadata": {
    "collapsed": false,
    "pycharm": {
     "name": "#%%\n"
    }
   }
  },
  {
   "cell_type": "markdown",
   "source": [
    "# Setup Tensorboard"
   ],
   "metadata": {
    "collapsed": false,
    "pycharm": {
     "name": "#%% md\n"
    }
   }
  },
  {
   "cell_type": "code",
   "execution_count": null,
   "outputs": [],
   "source": [
    "%load_ext tensorboard\n",
    "%tensorboard --logdir lightning_logs --port 6006"
   ],
   "metadata": {
    "collapsed": false,
    "pycharm": {
     "name": "#%%\n"
    }
   }
  },
  {
   "cell_type": "code",
   "execution_count": null,
   "outputs": [],
   "source": [
    "# train_dataset[0] --> trajectory sets as dict\n",
    "# train_dataset[0][\"traj\"] --> first trajectory set \n",
    "# train_dataset[0][\"traj_shifted\"] --> first trajectory set shifted by one (targets)\n",
    "train_dataset = None # 100x10x2\n",
    "validation_dataset = None\n",
    "test_dataset = None"
   ],
   "metadata": {
    "collapsed": false,
    "pycharm": {
     "name": "#%%\n"
    }
   }
  },
  {
   "cell_type": "markdown",
   "source": [
    "# Create dataset"
   ],
   "metadata": {
    "collapsed": false,
    "pycharm": {
     "name": "#%% md\n"
    }
   }
  },
  {
   "cell_type": "code",
   "execution_count": null,
   "outputs": [],
   "source": [
    "# Define the parameters\n",
    "alpha = -1.8\n",
    "(range_start, range_end) = (-2, 2)\n",
    "(t_start, t_end, delta_t) = (0, 1, 0.01)\n",
    "num_trajectories = 1000\n",
    "\n",
    "evaluation_times = np.arange(t_start, t_end, delta_t)\n",
    "print(\"will solve for times:\", evaluation_times)\n",
    "\n",
    "sols = generate_dataset(alpha, delta_t, range_start, range_end, t_start, t_end, num_trajectories)\n",
    "\n",
    "print(\"Result have the shape:\", sols.shape)\n",
    "\n",
    "\n",
    "print(\"first datapoint in the first trajectory: \", sols[0][0][0], sols[0][1][0])\n",
    "print(\"last datapoint in the first trajectory: \", sols[0][0][-1], sols[0][1][-1])\n",
    "\n",
    "print(\"first datapoint in the last trajectory: \", sols[-1][0][0], sols[-1][1][0])\n",
    "print(\"last datapoint in the last trajectory: \", sols[-1][0][-1], sols[-1][1][-1])"
   ],
   "metadata": {
    "collapsed": false,
    "pycharm": {
     "name": "#%%\n"
    }
   }
  },
  {
   "cell_type": "code",
   "execution_count": null,
   "outputs": [],
   "source": [
    "# Lets plot the first and last generated trajectories with different starting points\n",
    "# to get a feeling how the data looks like \n",
    "plot_trajectory(sols[0], t_start, t_end, delta_t)\n",
    "plot_trajectory(sols[999], t_start, t_end, delta_t)"
   ],
   "metadata": {
    "collapsed": false,
    "pycharm": {
     "name": "#%%\n"
    }
   }
  },
  {
   "cell_type": "markdown",
   "source": [
    "# Prepare the dataset"
   ],
   "metadata": {
    "collapsed": false,
    "pycharm": {
     "name": "#%% md\n"
    }
   }
  },
  {
   "cell_type": "code",
   "execution_count": null,
   "outputs": [],
   "source": [
    "# for training we want to have a shape (num_trajectories * num_datapoints, 2, 2)\n",
    "# where we will hold values and corresponding targets in the second axis\n",
    "train_dataset = reshape_for_training(sols)\n",
    "\n",
    "print(\"train_dataset shape: \", train_dataset.shape)"
   ],
   "metadata": {
    "collapsed": false,
    "pycharm": {
     "name": "#%%\n"
    }
   }
  },
  {
   "cell_type": "code",
   "execution_count": null,
   "outputs": [],
   "source": [
    "\"\"\"\n",
    "train_dataset = np.stack((train_dataset_values, train_dataset_targets))\n",
    "print(\"train_dataset shape: \", train_dataset.shape)\n",
    "\n",
    "train_dataset = np.moveaxis(train_dataset, 0, 1)\n",
    "print(\"train_dataset shape: \", train_dataset.shape)\n",
    "\n",
    "# As one can see, we could successfully generate the targets!\n",
    "#print(train_dataset_values[0, :, :10])\n",
    "#print(train_dataset_targets[0, :, :10])\n",
    "\n",
    "\n",
    "#values_x = train_dataset_values[:, 0, :]\n",
    "#values_y = train_dataset_values[:, 1, :]\n",
    "\n",
    "#A = np.reshape(train_dataset_values, (1000, 9999, 2))\n",
    "#print(A[0, :10, :])\n",
    "\n",
    "#train_dataset_targets =\n",
    "\n",
    "#(1000, 10000, 10000)\n",
    "\n",
    "#((10000000, 2), (10000000, 2))\n",
    "\"\"\""
   ],
   "metadata": {
    "collapsed": false,
    "pycharm": {
     "name": "#%%\n"
    }
   }
  },
  {
   "cell_type": "markdown",
   "source": [
    "# Define hyperparameters"
   ],
   "metadata": {
    "collapsed": false,
    "pycharm": {
     "name": "#%% md\n"
    }
   }
  },
  {
   "cell_type": "code",
   "execution_count": null,
   "outputs": [],
   "source": [
    "hparams = {\n",
    "    \"hidden_layer_1\": 512,\n",
    "    \"hidden_layer_2\": 512,\n",
    "    \"hidden_layer_3\": 512,\n",
    "    \"delta_t\": delta_t,\n",
    "    \"batch_size\": 256,\n",
    "    \"learning_rate\": 1e-3,\n",
    "    \"num_workers\": 8,\n",
    "}"
   ],
   "metadata": {
    "collapsed": false,
    "pycharm": {
     "name": "#%%\n"
    }
   }
  },
  {
   "cell_type": "code",
   "execution_count": null,
   "outputs": [],
   "source": [
    "model = Euler(hparams)"
   ],
   "metadata": {
    "collapsed": false,
    "pycharm": {
     "name": "#%%\n"
    }
   }
  },
  {
   "cell_type": "markdown",
   "source": [
    "# Validation set"
   ],
   "metadata": {
    "collapsed": false,
    "pycharm": {
     "name": "#%% md\n"
    }
   }
  },
  {
   "cell_type": "code",
   "execution_count": null,
   "outputs": [],
   "source": [
    "start_positions = np.random.uniform(-2, 2, (200, 2))\n",
    "\n",
    "sols = []\n",
    "t_eval = np.arange(0, 10, delta_t)\n",
    "\n",
    "for start_position in start_positions:\n",
    "    sol = scipy.integrate.solve_ivp(lambda t, y: get_derivatives(y[0], y[1], alpha), (0, 10) , start_position, t_eval=t_eval)\n",
    "    sols.append(sol.y)\n",
    "    \n",
    "validation_dataset_values = np.array(sols)\n",
    "\n",
    "print(\"VAL DATASET SHAPE:\", validation_dataset_values.shape)\n",
    "\n",
    "validation_dataset_targets = np.delete(validation_dataset_values, (0), axis=-1)\n",
    "validation_dataset_values = np.delete(validation_dataset_values, (-1), axis=-1)\n",
    "\n",
    "validation_dataset_values = np.moveaxis(validation_dataset_values, 1, -1).reshape((validation_dataset_values.shape[0] * validation_dataset_values.shape[2], 2))\n",
    "\n",
    "validation_dataset_targets = np.moveaxis(validation_dataset_targets, 1, -1).reshape((validation_dataset_targets.shape[0] * validation_dataset_targets.shape[2], 2))\n",
    "\n",
    "\n",
    "validation_dataset = np.stack((validation_dataset_values, validation_dataset_targets))\n",
    "\n",
    "validation_dataset = np.moveaxis(validation_dataset , 0, 1)\n",
    "\n",
    "\n",
    "print(\"VAL DATASET SHAPE:\", validation_dataset.shape)\n",
    "\n",
    "def evaluate_model(model, dataset):\n",
    "    \"\"\"\n",
    "    TODO\n",
    "    \"\"\"\n",
    "    model.eval()\n",
    "    model.to(device)\n",
    "    criterion = torch.nn.MSELoss()\n",
    "    dataloader = torch.utils.data.DataLoader(dataset, batch_size=hparams[\"batch_size\"], shuffle=False)\n",
    "    loss = 0\n",
    "    for batch in dataloader:\n",
    "        pos = batch[:, 0]\n",
    "        pos_target = batch[:, 1]\n",
    "        \n",
    "        pos = pos.to(device)\n",
    "        pos_target = pos_target.to(device)\n",
    "        \n",
    "        #x = torch.flatten(traj).to(device)\n",
    "        #y = torch.flatten(traj_shifted).to(device)\n",
    "        \n",
    "        pred = model.forward(pos.float()).to(device)\n",
    "        \n",
    "        loss += criterion(pred.float(), pos_target.float()).item()\n",
    "    return 1.0 / (2 * (loss/len(dataloader)))\n",
    "\n",
    "\n",
    "def recreate_trajectory(model, start_position, t_start, t_end, delta_t):\n",
    "    \"\"\"\n",
    "    TODO\n",
    "    \"\"\"\n",
    "    trajectory = [start_position]\n",
    "    last_traj = torch.tensor(start_position)\n",
    "    \n",
    "    last_traj = last_traj.to(device)\n",
    "    \n",
    "    t0 = t_start\n",
    "    while t0 < t_end - delta_t:\n",
    "        last_traj = last_traj + delta_t * model(last_traj.float())\n",
    "        trajectory.append(last_traj.cpu().detach())\n",
    "        \n",
    "        t0 += delta_t\n",
    "        \n",
    "    return np.array(trajectory)\n",
    "\n",
    "\n",
    "print(\"Score of the Model before training:\", evaluate_model(model, validation_dataset))\n",
    "\n",
    "# plot the first one\n",
    "recreation = recreate_trajectory(model, start_positions[0], t_eval[0], t_eval[-1], delta_t)\n",
    "\n",
    "# unzip the list \n",
    "recreation = [[i for i, j in recreation],\n",
    "                 [j for i, j in recreation]]\n",
    "\n",
    "fig = plt.figure(figsize=(10, 10))\n",
    "ax0 = plt.axes(projection=\"3d\")\n",
    "ax0.plot(t_eval, recreation[0], recreation[1], label=r\"Trajectory with starting point $(-3, -3)$\", color=\"r\")\n",
    "\n",
    "ax0.set_xlabel(r\"$t$\")\n",
    "ax0.set_ylabel(r\"$x_1$\")\n",
    "ax0.set_zlabel(r\"$x_2$\")\n",
    "\n",
    "\n",
    "print(\"FIRST VALUE: \", recreation[0][0], recreation[0][1])\n",
    "print(\"LAST VALUE: \", recreation[-1][0], recreation[-1][1])\n",
    "\n",
    "positions = np.empty((40, 40, 2))\n",
    "next_positions = np.empty((40, 40, 2))\n",
    "for idx1, i in enumerate(np.linspace(-1, 1, 40)):\n",
    "    for idx2, j in enumerate(np.linspace(-1, 1, 40)):\n",
    "        positions[idx1][idx2] = np.array((i, j))\n",
    "        position = torch.tensor((i, j))\n",
    "        next_positions[idx1][idx2] = (model(position.float())).detach().numpy()\n",
    "derivatives = (next_positions - positions) / delta_t\n",
    "plt.figure(figsize=(25, 25))\n",
    "plt.quiver(positions[:, :, 0], positions[:, :, 1], derivatives[:, :, 0], derivatives[:, :, 1], units=\"xy\", scale=10);"
   ],
   "metadata": {
    "collapsed": false,
    "pycharm": {
     "name": "#%%\n"
    }
   }
  },
  {
   "cell_type": "code",
   "execution_count": null,
   "outputs": [],
   "source": [
    "train_dataloader = torch.utils.data.DataLoader(train_dataset,\n",
    "                                         shuffle=False,\n",
    "                                         batch_size=hparams[\"batch_size\"],\n",
    "                                         num_workers=8)\n",
    "validation__dataloader = torch.utils.data.DataLoader(validation_dataset,\n",
    "                                         shuffle=False,\n",
    "                                         batch_size=hparams[\"batch_size\"],\n",
    "                                         num_workers=8)"
   ],
   "metadata": {
    "collapsed": false,
    "pycharm": {
     "name": "#%%\n"
    }
   }
  },
  {
   "cell_type": "code",
   "execution_count": null,
   "outputs": [],
   "source": [
    "trainer = pl.Trainer(\n",
    "    max_epochs=5,\n",
    "    log_every_n_steps=1,\n",
    "    gpus=1 if torch.cuda.is_available() else None\n",
    ")\n",
    "\n",
    "trainer.fit(model, train_dataloader)"
   ],
   "metadata": {
    "collapsed": false,
    "pycharm": {
     "name": "#%%\n"
    }
   }
  },
  {
   "cell_type": "code",
   "execution_count": null,
   "outputs": [],
   "source": [
    "print(\"Score of the Model after training:\", evaluate_model(model, validation_dataset))\n",
    "\n",
    "# plot the first one\n",
    "recreation = recreate_trajectory(model, start_positions[0], t_eval[0], t_eval[-1], delta_t)\n",
    "\n",
    "# unzip the list \n",
    "recreation = [[i for i, j in recreation],\n",
    "                 [j for i, j in recreation]]\n",
    "\n",
    "print(\"FIRST VALUE: \", recreation[0][0], recreation[0][1])\n",
    "print(\"LAST VALUE: \", recreation[-1][0], recreation[-1][1])\n",
    "\n",
    "fig = plt.figure(figsize=(10, 10))\n",
    "ax0 = plt.axes(projection=\"3d\")\n",
    "ax0.plot(t_eval, recreation[0], recreation[1], label=r\"Trajectory with starting point $(-3, -3)$\", color=\"r\")\n",
    "\n",
    "ax0.set_xlabel(r\"$t$\")\n",
    "ax0.set_ylabel(r\"$x_1$\")\n",
    "ax0.set_zlabel(r\"$x_2$\")\n",
    "\n",
    "# plot the last one\n",
    "recreation = recreate_trajectory(model, start_positions[-1], t_eval[0], t_eval[-1], delta_t)\n",
    "\n",
    "# unzip the list \n",
    "recreation = [[i for i, j in recreation],\n",
    "                 [j for i, j in recreation]]\n",
    "\n",
    "print(\"FIRST VALUE: \", recreation[0][0], recreation[0][1])\n",
    "print(\"LAST VALUE: \", recreation[-1][0], recreation[-1][1])\n",
    "\n",
    "fig = plt.figure(figsize=(10, 10))\n",
    "ax0 = plt.axes(projection=\"3d\")\n",
    "ax0.plot(t_eval, recreation[0], recreation[1], label=r\"Trajectory with starting point $(-3, -3)$\", color=\"r\")\n",
    "\n",
    "ax0.set_xlabel(r\"$t$\")\n",
    "ax0.set_ylabel(r\"$x_1$\")\n",
    "ax0.set_zlabel(r\"$x_2$\")"
   ],
   "metadata": {
    "collapsed": false,
    "pycharm": {
     "name": "#%%\n"
    }
   }
  },
  {
   "cell_type": "code",
   "execution_count": null,
   "outputs": [],
   "source": [
    "positions = np.empty((40, 40, 2))\n",
    "next_positions = np.empty((40, 40, 2))\n",
    "for idx1, i in enumerate(np.linspace(-1, 1, 40)):\n",
    "    for idx2, j in enumerate(np.linspace(-1, 1, 40)):\n",
    "        positions[idx1][idx2] = np.array((i, j))\n",
    "        position = torch.tensor((i, j))\n",
    "        next_positions[idx1][idx2] = (model(position.float())).detach().numpy()\n",
    "derivatives = (next_positions - positions) / delta_t\n",
    "plt.figure(figsize=(25, 25))\n",
    "plt.quiver(positions[:, :, 0], positions[:, :, 1], derivatives[:, :, 0], derivatives[:, :, 1], units=\"xy\", scale=10);"
   ],
   "metadata": {
    "collapsed": false,
    "pycharm": {
     "name": "#%%\n"
    }
   }
  },
  {
   "cell_type": "code",
   "execution_count": null,
   "outputs": [],
   "source": [],
   "metadata": {
    "collapsed": false,
    "pycharm": {
     "name": "#%%\n"
    }
   }
  },
  {
   "cell_type": "code",
   "execution_count": null,
   "outputs": [],
   "source": [],
   "metadata": {
    "collapsed": false,
    "pycharm": {
     "name": "#%%\n"
    }
   }
  },
  {
   "cell_type": "code",
   "execution_count": null,
   "outputs": [],
   "source": [],
   "metadata": {
    "collapsed": false,
    "pycharm": {
     "name": "#%%\n"
    }
   }
  },
  {
   "cell_type": "code",
   "execution_count": null,
   "outputs": [],
   "source": [],
   "metadata": {
    "collapsed": false,
    "pycharm": {
     "name": "#%%\n"
    }
   }
  },
  {
   "cell_type": "code",
   "execution_count": null,
   "outputs": [],
   "source": [],
   "metadata": {
    "collapsed": false,
    "pycharm": {
     "name": "#%%\n"
    }
   }
  },
  {
   "cell_type": "code",
   "execution_count": null,
   "outputs": [],
   "source": [],
   "metadata": {
    "collapsed": false,
    "pycharm": {
     "name": "#%%\n"
    }
   }
  },
  {
   "cell_type": "code",
   "execution_count": null,
   "outputs": [],
   "source": [],
   "metadata": {
    "collapsed": false,
    "pycharm": {
     "name": "#%%\n"
    }
   }
  },
  {
   "cell_type": "code",
   "execution_count": null,
   "outputs": [],
   "source": [],
   "metadata": {
    "collapsed": false,
    "pycharm": {
     "name": "#%%\n"
    }
   }
  },
  {
   "cell_type": "code",
   "execution_count": null,
   "outputs": [],
   "source": [],
   "metadata": {
    "collapsed": false,
    "pycharm": {
     "name": "#%%\n"
    }
   }
  },
  {
   "cell_type": "code",
   "execution_count": null,
   "outputs": [],
   "source": [],
   "metadata": {
    "collapsed": false,
    "pycharm": {
     "name": "#%%\n"
    }
   }
  },
  {
   "cell_type": "code",
   "execution_count": null,
   "outputs": [],
   "source": [],
   "metadata": {
    "collapsed": false,
    "pycharm": {
     "name": "#%%\n"
    }
   }
  },
  {
   "cell_type": "code",
   "execution_count": null,
   "outputs": [],
   "source": [],
   "metadata": {
    "collapsed": false,
    "pycharm": {
     "name": "#%%\n"
    }
   }
  },
  {
   "cell_type": "code",
   "execution_count": null,
   "outputs": [],
   "source": [],
   "metadata": {
    "collapsed": false,
    "pycharm": {
     "name": "#%%\n"
    }
   }
  },
  {
   "cell_type": "code",
   "execution_count": null,
   "outputs": [],
   "source": [],
   "metadata": {
    "collapsed": false,
    "pycharm": {
     "name": "#%%\n"
    }
   }
  },
  {
   "cell_type": "code",
   "execution_count": null,
   "outputs": [],
   "source": [],
   "metadata": {
    "collapsed": false,
    "pycharm": {
     "name": "#%%\n"
    }
   }
  },
  {
   "cell_type": "code",
   "execution_count": null,
   "outputs": [],
   "source": [],
   "metadata": {
    "collapsed": false,
    "pycharm": {
     "name": "#%%\n"
    }
   }
  },
  {
   "cell_type": "code",
   "execution_count": null,
   "outputs": [],
   "source": [],
   "metadata": {
    "collapsed": false,
    "pycharm": {
     "name": "#%%\n"
    }
   }
  },
  {
   "cell_type": "code",
   "execution_count": null,
   "outputs": [],
   "source": [],
   "metadata": {
    "collapsed": false,
    "pycharm": {
     "name": "#%%\n"
    }
   }
  },
  {
   "cell_type": "code",
   "execution_count": null,
   "outputs": [],
   "source": [],
   "metadata": {
    "collapsed": false,
    "pycharm": {
     "name": "#%%\n"
    }
   }
  },
  {
   "cell_type": "code",
   "execution_count": 15,
   "outputs": [],
   "source": [],
   "metadata": {
    "collapsed": false,
    "pycharm": {
     "name": "#%%\n"
    }
   }
  },
  {
   "cell_type": "code",
   "execution_count": 15,
   "outputs": [],
   "source": [],
   "metadata": {
    "collapsed": false,
    "pycharm": {
     "name": "#%%\n"
    }
   }
  },
  {
   "cell_type": "code",
   "execution_count": 15,
   "outputs": [],
   "source": [],
   "metadata": {
    "collapsed": false,
    "pycharm": {
     "name": "#%%\n"
    }
   }
  },
  {
   "cell_type": "code",
   "execution_count": 15,
   "outputs": [],
   "source": [],
   "metadata": {
    "collapsed": false,
    "pycharm": {
     "name": "#%%\n"
    }
   }
  },
  {
   "cell_type": "code",
   "execution_count": 15,
   "outputs": [],
   "source": [],
   "metadata": {
    "collapsed": false,
    "pycharm": {
     "name": "#%%\n"
    }
   }
  },
  {
   "cell_type": "code",
   "execution_count": 15,
   "outputs": [],
   "source": [],
   "metadata": {
    "collapsed": false,
    "pycharm": {
     "name": "#%%\n"
    }
   }
  },
  {
   "cell_type": "code",
   "execution_count": 15,
   "outputs": [],
   "source": [],
   "metadata": {
    "collapsed": false,
    "pycharm": {
     "name": "#%%\n"
    }
   }
  },
  {
   "cell_type": "code",
   "execution_count": 15,
   "outputs": [],
   "source": [],
   "metadata": {
    "collapsed": false,
    "pycharm": {
     "name": "#%%\n"
    }
   }
  },
  {
   "cell_type": "code",
   "execution_count": 15,
   "outputs": [],
   "source": [],
   "metadata": {
    "collapsed": false,
    "pycharm": {
     "name": "#%%\n"
    }
   }
  },
  {
   "cell_type": "code",
   "execution_count": 15,
   "metadata": {
    "pycharm": {
     "name": "#%%\n"
    }
   },
   "outputs": [],
   "source": []
  },
  {
   "cell_type": "code",
   "execution_count": null,
   "metadata": {
    "pycharm": {
     "name": "#%%\n"
    }
   },
   "outputs": [],
   "source": []
  },
  {
   "cell_type": "code",
   "execution_count": null,
   "metadata": {
    "pycharm": {
     "name": "#%%\n"
    }
   },
   "outputs": [],
   "source": []
  },
  {
   "cell_type": "code",
   "execution_count": null,
   "metadata": {
    "pycharm": {
     "name": "#%%\n"
    }
   },
   "outputs": [],
   "source": []
  },
  {
   "cell_type": "code",
   "execution_count": null,
   "metadata": {
    "pycharm": {
     "name": "#%%\n"
    }
   },
   "outputs": [],
   "source": []
  },
  {
   "cell_type": "code",
   "execution_count": null,
   "metadata": {
    "pycharm": {
     "name": "#%%\n"
    }
   },
   "outputs": [],
   "source": []
  },
  {
   "cell_type": "code",
   "execution_count": null,
   "metadata": {
    "pycharm": {
     "name": "#%%\n"
    }
   },
   "outputs": [],
   "source": []
  },
  {
   "cell_type": "code",
   "execution_count": null,
   "metadata": {
    "pycharm": {
     "name": "#%%\n"
    }
   },
   "outputs": [],
   "source": []
  },
  {
   "cell_type": "code",
   "execution_count": null,
   "metadata": {
    "pycharm": {
     "name": "#%%\n"
    }
   },
   "outputs": [],
   "source": []
  },
  {
   "cell_type": "code",
   "execution_count": null,
   "metadata": {
    "pycharm": {
     "name": "#%%\n"
    }
   },
   "outputs": [],
   "source": []
  },
  {
   "cell_type": "code",
   "execution_count": null,
   "metadata": {
    "pycharm": {
     "name": "#%%\n"
    }
   },
   "outputs": [],
   "source": []
  }
 ],
 "metadata": {
  "kernelspec": {
   "display_name": "Python 3 (ipykernel)",
   "language": "python",
   "name": "python3"
  },
  "language_info": {
   "codemirror_mode": {
    "name": "ipython",
    "version": 3
   },
   "file_extension": ".py",
   "mimetype": "text/x-python",
   "name": "python",
   "nbconvert_exporter": "python",
   "pygments_lexer": "ipython3",
   "version": "3.9.7"
  }
 },
 "nbformat": 4,
 "nbformat_minor": 4
}